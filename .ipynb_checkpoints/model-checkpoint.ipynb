{
 "cells": [
  {
   "cell_type": "markdown",
   "id": "06aa8380",
   "metadata": {
    "papermill": {
     "duration": 0.079394,
     "end_time": "2022-03-20T16:29:50.206054",
     "exception": false,
     "start_time": "2022-03-20T16:29:50.126660",
     "status": "completed"
    },
    "tags": []
   },
   "source": [
    "# **INTRODUCTION**\n",
    "\n",
    "> World Health Organization has estimated 12 million deaths occur worldwide, every year due to Heart diseases. Half the deaths in the United States and other developed countries are due to cardio vascular diseases. The early prognosis of cardiovascular diseases can aid in making decisions on lifestyle changes in high risk patients and in turn reduce the complications. This research intends to pinpoint the most relevant/risk factors of heart disease as well as predict the overall risk using logistic regressio"
   ]
  },
  {
   "cell_type": "markdown",
   "id": "43edbabb",
   "metadata": {
    "papermill": {
     "duration": 0.079013,
     "end_time": "2022-03-20T16:29:50.365463",
     "exception": false,
     "start_time": "2022-03-20T16:29:50.286450",
     "status": "completed"
    },
    "tags": []
   },
   "source": [
    "# **LOGISTIC REGRESSION**\n",
    "\n",
    "\n",
    "> Logistic regression is a type of regression analysis in statistics used for prediction of outcome of a categorical dependent variable from a set of predictor or independent variables. In logistic regression the dependent variable is always binary. Logistic regression is mainly used to for prediction and also calculating the probability of success."
   ]
  },
  {
   "cell_type": "markdown",
   "id": "baf41f72",
   "metadata": {
    "papermill": {
     "duration": 0.077933,
     "end_time": "2022-03-20T16:29:50.522594",
     "exception": false,
     "start_time": "2022-03-20T16:29:50.444661",
     "status": "completed"
    },
    "tags": []
   },
   "source": [
    "# **IMPORTING DATA**"
   ]
  },
  {
   "cell_type": "code",
   "execution_count": 1,
   "id": "978ed1a0",
   "metadata": {
    "_cell_guid": "b1076dfc-b9ad-4769-8c92-a6c4dae69d19",
    "_uuid": "8f2839f25d086af736a60e9eeb907d3b93b6e0e5",
    "execution": {
     "iopub.execute_input": "2022-03-20T16:29:50.718290Z",
     "iopub.status.busy": "2022-03-20T16:29:50.717393Z",
     "iopub.status.idle": "2022-03-20T16:29:51.760959Z",
     "shell.execute_reply": "2022-03-20T16:29:51.760229Z",
     "shell.execute_reply.started": "2022-03-20T15:06:56.778324Z"
    },
    "papermill": {
     "duration": 1.158132,
     "end_time": "2022-03-20T16:29:51.761125",
     "exception": false,
     "start_time": "2022-03-20T16:29:50.602993",
     "status": "completed"
    },
    "tags": []
   },
   "outputs": [
    {
     "name": "stdout",
     "output_type": "stream",
     "text": [
      "/kaggle/input/heart-disease-prediction-using-logistic-regression/framingham.csv\n"
     ]
    }
   ],
   "source": [
    "# This Python 3 environment comes with many helpful analytics libraries installed\n",
    "# It is defined by the kaggle/python Docker image: https://github.com/kaggle/docker-python\n",
    "# For example, here's several helpful packages to load\n",
    "\n",
    "import numpy as np # linear algebra\n",
    "import pandas as pd # data processing, CSV file I/O (e.g. pd.read_csv)\n",
    "import matplotlib.pyplot as plt\n",
    "import seaborn as sns\n",
    "\n",
    "# Input data files are available in the read-only \"../input/\" directory\n",
    "# For example, running this (by clicking run or pressing Shift+Enter) will list all files under the input directory\n",
    "\n",
    "import os\n",
    "for dirname, _, filenames in os.walk('/kaggle/input'):\n",
    "    for filename in filenames:\n",
    "        print(os.path.join(dirname, filename))\n",
    "\n",
    "# You can write up to 20GB to the current directory (/kaggle/working/) that gets preserved as output when you create a version using \"Save & Run All\" \n",
    "# You can also write temporary files to /kaggle/temp/, but they won't be saved outside of the current session"
   ]
  },
  {
   "cell_type": "code",
   "execution_count": 2,
   "id": "e740ab82",
   "metadata": {
    "execution": {
     "iopub.execute_input": "2022-03-20T16:29:51.926581Z",
     "iopub.status.busy": "2022-03-20T16:29:51.925889Z",
     "iopub.status.idle": "2022-03-20T16:29:51.951956Z",
     "shell.execute_reply": "2022-03-20T16:29:51.952455Z",
     "shell.execute_reply.started": "2022-03-20T15:06:57.326889Z"
    },
    "papermill": {
     "duration": 0.111568,
     "end_time": "2022-03-20T16:29:51.952640",
     "exception": false,
     "start_time": "2022-03-20T16:29:51.841072",
     "status": "completed"
    },
    "tags": []
   },
   "outputs": [],
   "source": [
    "heart_df=pd.read_csv(\"/kaggle/input/heart-disease-prediction-using-logistic-regression/framingham.csv\")"
   ]
  },
  {
   "cell_type": "markdown",
   "id": "7b5f71e3",
   "metadata": {
    "papermill": {
     "duration": 0.078631,
     "end_time": "2022-03-20T16:29:52.112111",
     "exception": false,
     "start_time": "2022-03-20T16:29:52.033480",
     "status": "completed"
    },
    "tags": []
   },
   "source": [
    "# **DATA EXPLORATION**\n",
    "\n",
    "> Data exploration is the initial step in data analysis, where users explore a large data set in an unstructured way to uncover initial patterns, characteristics, and points of interest. This process isn’t meant to reveal every bit of information a dataset holds, but rather to help create a broad picture of important trends and major points to study in greater detai"
   ]
  },
  {
   "cell_type": "code",
   "execution_count": 3,
   "id": "5ad583cb",
   "metadata": {
    "execution": {
     "iopub.execute_input": "2022-03-20T16:29:52.271993Z",
     "iopub.status.busy": "2022-03-20T16:29:52.271389Z",
     "iopub.status.idle": "2022-03-20T16:29:52.277568Z",
     "shell.execute_reply": "2022-03-20T16:29:52.278146Z",
     "shell.execute_reply.started": "2022-03-20T15:06:57.350716Z"
    },
    "papermill": {
     "duration": 0.087894,
     "end_time": "2022-03-20T16:29:52.278331",
     "exception": false,
     "start_time": "2022-03-20T16:29:52.190437",
     "status": "completed"
    },
    "tags": []
   },
   "outputs": [
    {
     "data": {
      "text/plain": [
       "(4238, 16)"
      ]
     },
     "execution_count": 3,
     "metadata": {},
     "output_type": "execute_result"
    }
   ],
   "source": [
    "## shape \n",
    "heart_df.shape\n"
   ]
  },
  {
   "cell_type": "code",
   "execution_count": 4,
   "id": "96e06548",
   "metadata": {
    "execution": {
     "iopub.execute_input": "2022-03-20T16:29:52.438809Z",
     "iopub.status.busy": "2022-03-20T16:29:52.438193Z",
     "iopub.status.idle": "2022-03-20T16:29:52.463487Z",
     "shell.execute_reply": "2022-03-20T16:29:52.464064Z",
     "shell.execute_reply.started": "2022-03-20T15:06:57.361302Z"
    },
    "papermill": {
     "duration": 0.107215,
     "end_time": "2022-03-20T16:29:52.464256",
     "exception": false,
     "start_time": "2022-03-20T16:29:52.357041",
     "status": "completed"
    },
    "tags": []
   },
   "outputs": [
    {
     "data": {
      "text/html": [
       "<div>\n",
       "<style scoped>\n",
       "    .dataframe tbody tr th:only-of-type {\n",
       "        vertical-align: middle;\n",
       "    }\n",
       "\n",
       "    .dataframe tbody tr th {\n",
       "        vertical-align: top;\n",
       "    }\n",
       "\n",
       "    .dataframe thead th {\n",
       "        text-align: right;\n",
       "    }\n",
       "</style>\n",
       "<table border=\"1\" class=\"dataframe\">\n",
       "  <thead>\n",
       "    <tr style=\"text-align: right;\">\n",
       "      <th></th>\n",
       "      <th>male</th>\n",
       "      <th>age</th>\n",
       "      <th>education</th>\n",
       "      <th>currentSmoker</th>\n",
       "      <th>cigsPerDay</th>\n",
       "      <th>BPMeds</th>\n",
       "      <th>prevalentStroke</th>\n",
       "      <th>prevalentHyp</th>\n",
       "      <th>diabetes</th>\n",
       "      <th>totChol</th>\n",
       "      <th>sysBP</th>\n",
       "      <th>diaBP</th>\n",
       "      <th>BMI</th>\n",
       "      <th>heartRate</th>\n",
       "      <th>glucose</th>\n",
       "      <th>TenYearCHD</th>\n",
       "    </tr>\n",
       "  </thead>\n",
       "  <tbody>\n",
       "    <tr>\n",
       "      <th>0</th>\n",
       "      <td>1</td>\n",
       "      <td>39</td>\n",
       "      <td>4.0</td>\n",
       "      <td>0</td>\n",
       "      <td>0.0</td>\n",
       "      <td>0.0</td>\n",
       "      <td>0</td>\n",
       "      <td>0</td>\n",
       "      <td>0</td>\n",
       "      <td>195.0</td>\n",
       "      <td>106.0</td>\n",
       "      <td>70.0</td>\n",
       "      <td>26.97</td>\n",
       "      <td>80.0</td>\n",
       "      <td>77.0</td>\n",
       "      <td>0</td>\n",
       "    </tr>\n",
       "    <tr>\n",
       "      <th>1</th>\n",
       "      <td>0</td>\n",
       "      <td>46</td>\n",
       "      <td>2.0</td>\n",
       "      <td>0</td>\n",
       "      <td>0.0</td>\n",
       "      <td>0.0</td>\n",
       "      <td>0</td>\n",
       "      <td>0</td>\n",
       "      <td>0</td>\n",
       "      <td>250.0</td>\n",
       "      <td>121.0</td>\n",
       "      <td>81.0</td>\n",
       "      <td>28.73</td>\n",
       "      <td>95.0</td>\n",
       "      <td>76.0</td>\n",
       "      <td>0</td>\n",
       "    </tr>\n",
       "    <tr>\n",
       "      <th>2</th>\n",
       "      <td>1</td>\n",
       "      <td>48</td>\n",
       "      <td>1.0</td>\n",
       "      <td>1</td>\n",
       "      <td>20.0</td>\n",
       "      <td>0.0</td>\n",
       "      <td>0</td>\n",
       "      <td>0</td>\n",
       "      <td>0</td>\n",
       "      <td>245.0</td>\n",
       "      <td>127.5</td>\n",
       "      <td>80.0</td>\n",
       "      <td>25.34</td>\n",
       "      <td>75.0</td>\n",
       "      <td>70.0</td>\n",
       "      <td>0</td>\n",
       "    </tr>\n",
       "    <tr>\n",
       "      <th>3</th>\n",
       "      <td>0</td>\n",
       "      <td>61</td>\n",
       "      <td>3.0</td>\n",
       "      <td>1</td>\n",
       "      <td>30.0</td>\n",
       "      <td>0.0</td>\n",
       "      <td>0</td>\n",
       "      <td>1</td>\n",
       "      <td>0</td>\n",
       "      <td>225.0</td>\n",
       "      <td>150.0</td>\n",
       "      <td>95.0</td>\n",
       "      <td>28.58</td>\n",
       "      <td>65.0</td>\n",
       "      <td>103.0</td>\n",
       "      <td>1</td>\n",
       "    </tr>\n",
       "    <tr>\n",
       "      <th>4</th>\n",
       "      <td>0</td>\n",
       "      <td>46</td>\n",
       "      <td>3.0</td>\n",
       "      <td>1</td>\n",
       "      <td>23.0</td>\n",
       "      <td>0.0</td>\n",
       "      <td>0</td>\n",
       "      <td>0</td>\n",
       "      <td>0</td>\n",
       "      <td>285.0</td>\n",
       "      <td>130.0</td>\n",
       "      <td>84.0</td>\n",
       "      <td>23.10</td>\n",
       "      <td>85.0</td>\n",
       "      <td>85.0</td>\n",
       "      <td>0</td>\n",
       "    </tr>\n",
       "  </tbody>\n",
       "</table>\n",
       "</div>"
      ],
      "text/plain": [
       "   male  age  education  currentSmoker  cigsPerDay  BPMeds  prevalentStroke  \\\n",
       "0     1   39        4.0              0         0.0     0.0                0   \n",
       "1     0   46        2.0              0         0.0     0.0                0   \n",
       "2     1   48        1.0              1        20.0     0.0                0   \n",
       "3     0   61        3.0              1        30.0     0.0                0   \n",
       "4     0   46        3.0              1        23.0     0.0                0   \n",
       "\n",
       "   prevalentHyp  diabetes  totChol  sysBP  diaBP    BMI  heartRate  glucose  \\\n",
       "0             0         0    195.0  106.0   70.0  26.97       80.0     77.0   \n",
       "1             0         0    250.0  121.0   81.0  28.73       95.0     76.0   \n",
       "2             0         0    245.0  127.5   80.0  25.34       75.0     70.0   \n",
       "3             1         0    225.0  150.0   95.0  28.58       65.0    103.0   \n",
       "4             0         0    285.0  130.0   84.0  23.10       85.0     85.0   \n",
       "\n",
       "   TenYearCHD  \n",
       "0           0  \n",
       "1           0  \n",
       "2           0  \n",
       "3           1  \n",
       "4           0  "
      ]
     },
     "execution_count": 4,
     "metadata": {},
     "output_type": "execute_result"
    }
   ],
   "source": [
    "## 1st five columns\n",
    "heart_df.head()"
   ]
  },
  {
   "cell_type": "code",
   "execution_count": 5,
   "id": "c96a4109",
   "metadata": {
    "execution": {
     "iopub.execute_input": "2022-03-20T16:29:52.629617Z",
     "iopub.status.busy": "2022-03-20T16:29:52.626344Z",
     "iopub.status.idle": "2022-03-20T16:29:52.651111Z",
     "shell.execute_reply": "2022-03-20T16:29:52.651677Z",
     "shell.execute_reply.started": "2022-03-20T15:06:57.397023Z"
    },
    "papermill": {
     "duration": 0.108499,
     "end_time": "2022-03-20T16:29:52.651854",
     "exception": false,
     "start_time": "2022-03-20T16:29:52.543355",
     "status": "completed"
    },
    "tags": []
   },
   "outputs": [
    {
     "name": "stdout",
     "output_type": "stream",
     "text": [
      "<class 'pandas.core.frame.DataFrame'>\n",
      "RangeIndex: 4238 entries, 0 to 4237\n",
      "Data columns (total 16 columns):\n",
      " #   Column           Non-Null Count  Dtype  \n",
      "---  ------           --------------  -----  \n",
      " 0   male             4238 non-null   int64  \n",
      " 1   age              4238 non-null   int64  \n",
      " 2   education        4133 non-null   float64\n",
      " 3   currentSmoker    4238 non-null   int64  \n",
      " 4   cigsPerDay       4209 non-null   float64\n",
      " 5   BPMeds           4185 non-null   float64\n",
      " 6   prevalentStroke  4238 non-null   int64  \n",
      " 7   prevalentHyp     4238 non-null   int64  \n",
      " 8   diabetes         4238 non-null   int64  \n",
      " 9   totChol          4188 non-null   float64\n",
      " 10  sysBP            4238 non-null   float64\n",
      " 11  diaBP            4238 non-null   float64\n",
      " 12  BMI              4219 non-null   float64\n",
      " 13  heartRate        4237 non-null   float64\n",
      " 14  glucose          3850 non-null   float64\n",
      " 15  TenYearCHD       4238 non-null   int64  \n",
      "dtypes: float64(9), int64(7)\n",
      "memory usage: 529.9 KB\n"
     ]
    }
   ],
   "source": [
    "## information\n",
    "heart_df.info()"
   ]
  },
  {
   "cell_type": "code",
   "execution_count": 6,
   "id": "fb3c0bc6",
   "metadata": {
    "execution": {
     "iopub.execute_input": "2022-03-20T16:29:52.815859Z",
     "iopub.status.busy": "2022-03-20T16:29:52.815174Z",
     "iopub.status.idle": "2022-03-20T16:29:52.869282Z",
     "shell.execute_reply": "2022-03-20T16:29:52.869783Z",
     "shell.execute_reply.started": "2022-03-20T15:06:57.418116Z"
    },
    "papermill": {
     "duration": 0.137341,
     "end_time": "2022-03-20T16:29:52.869960",
     "exception": false,
     "start_time": "2022-03-20T16:29:52.732619",
     "status": "completed"
    },
    "tags": []
   },
   "outputs": [
    {
     "data": {
      "text/html": [
       "<div>\n",
       "<style scoped>\n",
       "    .dataframe tbody tr th:only-of-type {\n",
       "        vertical-align: middle;\n",
       "    }\n",
       "\n",
       "    .dataframe tbody tr th {\n",
       "        vertical-align: top;\n",
       "    }\n",
       "\n",
       "    .dataframe thead th {\n",
       "        text-align: right;\n",
       "    }\n",
       "</style>\n",
       "<table border=\"1\" class=\"dataframe\">\n",
       "  <thead>\n",
       "    <tr style=\"text-align: right;\">\n",
       "      <th></th>\n",
       "      <th>male</th>\n",
       "      <th>age</th>\n",
       "      <th>education</th>\n",
       "      <th>currentSmoker</th>\n",
       "      <th>cigsPerDay</th>\n",
       "      <th>BPMeds</th>\n",
       "      <th>prevalentStroke</th>\n",
       "      <th>prevalentHyp</th>\n",
       "      <th>diabetes</th>\n",
       "      <th>totChol</th>\n",
       "      <th>sysBP</th>\n",
       "      <th>diaBP</th>\n",
       "      <th>BMI</th>\n",
       "      <th>heartRate</th>\n",
       "      <th>glucose</th>\n",
       "      <th>TenYearCHD</th>\n",
       "    </tr>\n",
       "  </thead>\n",
       "  <tbody>\n",
       "    <tr>\n",
       "      <th>count</th>\n",
       "      <td>4238.000000</td>\n",
       "      <td>4238.000000</td>\n",
       "      <td>4133.000000</td>\n",
       "      <td>4238.000000</td>\n",
       "      <td>4209.000000</td>\n",
       "      <td>4185.000000</td>\n",
       "      <td>4238.000000</td>\n",
       "      <td>4238.000000</td>\n",
       "      <td>4238.000000</td>\n",
       "      <td>4188.000000</td>\n",
       "      <td>4238.000000</td>\n",
       "      <td>4238.000000</td>\n",
       "      <td>4219.000000</td>\n",
       "      <td>4237.000000</td>\n",
       "      <td>3850.000000</td>\n",
       "      <td>4238.000000</td>\n",
       "    </tr>\n",
       "    <tr>\n",
       "      <th>mean</th>\n",
       "      <td>0.429212</td>\n",
       "      <td>49.584946</td>\n",
       "      <td>1.978950</td>\n",
       "      <td>0.494101</td>\n",
       "      <td>9.003089</td>\n",
       "      <td>0.029630</td>\n",
       "      <td>0.005899</td>\n",
       "      <td>0.310524</td>\n",
       "      <td>0.025720</td>\n",
       "      <td>236.721585</td>\n",
       "      <td>132.352407</td>\n",
       "      <td>82.893464</td>\n",
       "      <td>25.802008</td>\n",
       "      <td>75.878924</td>\n",
       "      <td>81.966753</td>\n",
       "      <td>0.151958</td>\n",
       "    </tr>\n",
       "    <tr>\n",
       "      <th>std</th>\n",
       "      <td>0.495022</td>\n",
       "      <td>8.572160</td>\n",
       "      <td>1.019791</td>\n",
       "      <td>0.500024</td>\n",
       "      <td>11.920094</td>\n",
       "      <td>0.169584</td>\n",
       "      <td>0.076587</td>\n",
       "      <td>0.462763</td>\n",
       "      <td>0.158316</td>\n",
       "      <td>44.590334</td>\n",
       "      <td>22.038097</td>\n",
       "      <td>11.910850</td>\n",
       "      <td>4.080111</td>\n",
       "      <td>12.026596</td>\n",
       "      <td>23.959998</td>\n",
       "      <td>0.359023</td>\n",
       "    </tr>\n",
       "    <tr>\n",
       "      <th>min</th>\n",
       "      <td>0.000000</td>\n",
       "      <td>32.000000</td>\n",
       "      <td>1.000000</td>\n",
       "      <td>0.000000</td>\n",
       "      <td>0.000000</td>\n",
       "      <td>0.000000</td>\n",
       "      <td>0.000000</td>\n",
       "      <td>0.000000</td>\n",
       "      <td>0.000000</td>\n",
       "      <td>107.000000</td>\n",
       "      <td>83.500000</td>\n",
       "      <td>48.000000</td>\n",
       "      <td>15.540000</td>\n",
       "      <td>44.000000</td>\n",
       "      <td>40.000000</td>\n",
       "      <td>0.000000</td>\n",
       "    </tr>\n",
       "    <tr>\n",
       "      <th>25%</th>\n",
       "      <td>0.000000</td>\n",
       "      <td>42.000000</td>\n",
       "      <td>1.000000</td>\n",
       "      <td>0.000000</td>\n",
       "      <td>0.000000</td>\n",
       "      <td>0.000000</td>\n",
       "      <td>0.000000</td>\n",
       "      <td>0.000000</td>\n",
       "      <td>0.000000</td>\n",
       "      <td>206.000000</td>\n",
       "      <td>117.000000</td>\n",
       "      <td>75.000000</td>\n",
       "      <td>23.070000</td>\n",
       "      <td>68.000000</td>\n",
       "      <td>71.000000</td>\n",
       "      <td>0.000000</td>\n",
       "    </tr>\n",
       "    <tr>\n",
       "      <th>50%</th>\n",
       "      <td>0.000000</td>\n",
       "      <td>49.000000</td>\n",
       "      <td>2.000000</td>\n",
       "      <td>0.000000</td>\n",
       "      <td>0.000000</td>\n",
       "      <td>0.000000</td>\n",
       "      <td>0.000000</td>\n",
       "      <td>0.000000</td>\n",
       "      <td>0.000000</td>\n",
       "      <td>234.000000</td>\n",
       "      <td>128.000000</td>\n",
       "      <td>82.000000</td>\n",
       "      <td>25.400000</td>\n",
       "      <td>75.000000</td>\n",
       "      <td>78.000000</td>\n",
       "      <td>0.000000</td>\n",
       "    </tr>\n",
       "    <tr>\n",
       "      <th>75%</th>\n",
       "      <td>1.000000</td>\n",
       "      <td>56.000000</td>\n",
       "      <td>3.000000</td>\n",
       "      <td>1.000000</td>\n",
       "      <td>20.000000</td>\n",
       "      <td>0.000000</td>\n",
       "      <td>0.000000</td>\n",
       "      <td>1.000000</td>\n",
       "      <td>0.000000</td>\n",
       "      <td>263.000000</td>\n",
       "      <td>144.000000</td>\n",
       "      <td>89.875000</td>\n",
       "      <td>28.040000</td>\n",
       "      <td>83.000000</td>\n",
       "      <td>87.000000</td>\n",
       "      <td>0.000000</td>\n",
       "    </tr>\n",
       "    <tr>\n",
       "      <th>max</th>\n",
       "      <td>1.000000</td>\n",
       "      <td>70.000000</td>\n",
       "      <td>4.000000</td>\n",
       "      <td>1.000000</td>\n",
       "      <td>70.000000</td>\n",
       "      <td>1.000000</td>\n",
       "      <td>1.000000</td>\n",
       "      <td>1.000000</td>\n",
       "      <td>1.000000</td>\n",
       "      <td>696.000000</td>\n",
       "      <td>295.000000</td>\n",
       "      <td>142.500000</td>\n",
       "      <td>56.800000</td>\n",
       "      <td>143.000000</td>\n",
       "      <td>394.000000</td>\n",
       "      <td>1.000000</td>\n",
       "    </tr>\n",
       "  </tbody>\n",
       "</table>\n",
       "</div>"
      ],
      "text/plain": [
       "              male          age    education  currentSmoker   cigsPerDay  \\\n",
       "count  4238.000000  4238.000000  4133.000000    4238.000000  4209.000000   \n",
       "mean      0.429212    49.584946     1.978950       0.494101     9.003089   \n",
       "std       0.495022     8.572160     1.019791       0.500024    11.920094   \n",
       "min       0.000000    32.000000     1.000000       0.000000     0.000000   \n",
       "25%       0.000000    42.000000     1.000000       0.000000     0.000000   \n",
       "50%       0.000000    49.000000     2.000000       0.000000     0.000000   \n",
       "75%       1.000000    56.000000     3.000000       1.000000    20.000000   \n",
       "max       1.000000    70.000000     4.000000       1.000000    70.000000   \n",
       "\n",
       "            BPMeds  prevalentStroke  prevalentHyp     diabetes      totChol  \\\n",
       "count  4185.000000      4238.000000   4238.000000  4238.000000  4188.000000   \n",
       "mean      0.029630         0.005899      0.310524     0.025720   236.721585   \n",
       "std       0.169584         0.076587      0.462763     0.158316    44.590334   \n",
       "min       0.000000         0.000000      0.000000     0.000000   107.000000   \n",
       "25%       0.000000         0.000000      0.000000     0.000000   206.000000   \n",
       "50%       0.000000         0.000000      0.000000     0.000000   234.000000   \n",
       "75%       0.000000         0.000000      1.000000     0.000000   263.000000   \n",
       "max       1.000000         1.000000      1.000000     1.000000   696.000000   \n",
       "\n",
       "             sysBP        diaBP          BMI    heartRate      glucose  \\\n",
       "count  4238.000000  4238.000000  4219.000000  4237.000000  3850.000000   \n",
       "mean    132.352407    82.893464    25.802008    75.878924    81.966753   \n",
       "std      22.038097    11.910850     4.080111    12.026596    23.959998   \n",
       "min      83.500000    48.000000    15.540000    44.000000    40.000000   \n",
       "25%     117.000000    75.000000    23.070000    68.000000    71.000000   \n",
       "50%     128.000000    82.000000    25.400000    75.000000    78.000000   \n",
       "75%     144.000000    89.875000    28.040000    83.000000    87.000000   \n",
       "max     295.000000   142.500000    56.800000   143.000000   394.000000   \n",
       "\n",
       "        TenYearCHD  \n",
       "count  4238.000000  \n",
       "mean      0.151958  \n",
       "std       0.359023  \n",
       "min       0.000000  \n",
       "25%       0.000000  \n",
       "50%       0.000000  \n",
       "75%       0.000000  \n",
       "max       1.000000  "
      ]
     },
     "execution_count": 6,
     "metadata": {},
     "output_type": "execute_result"
    }
   ],
   "source": [
    "## stats\n",
    "heart_df.describe()"
   ]
  },
  {
   "cell_type": "code",
   "execution_count": 7,
   "id": "c84fa2cb",
   "metadata": {
    "execution": {
     "iopub.execute_input": "2022-03-20T16:29:53.043216Z",
     "iopub.status.busy": "2022-03-20T16:29:53.042419Z",
     "iopub.status.idle": "2022-03-20T16:29:53.051597Z",
     "shell.execute_reply": "2022-03-20T16:29:53.050969Z",
     "shell.execute_reply.started": "2022-03-20T15:06:57.484033Z"
    },
    "papermill": {
     "duration": 0.098409,
     "end_time": "2022-03-20T16:29:53.051753",
     "exception": false,
     "start_time": "2022-03-20T16:29:52.953344",
     "status": "completed"
    },
    "tags": []
   },
   "outputs": [
    {
     "data": {
      "text/plain": [
       "male               0.000472\n",
       "age                0.009202\n",
       "education          0.000944\n",
       "currentSmoker      0.000472\n",
       "cigsPerDay         0.007787\n",
       "BPMeds             0.000472\n",
       "prevalentStroke    0.000472\n",
       "prevalentHyp       0.000472\n",
       "diabetes           0.000472\n",
       "totChol            0.058518\n",
       "sysBP              0.055215\n",
       "diaBP              0.034450\n",
       "BMI                0.321614\n",
       "heartRate          0.017225\n",
       "glucose            0.033742\n",
       "TenYearCHD         0.000472\n",
       "dtype: float64"
      ]
     },
     "execution_count": 7,
     "metadata": {},
     "output_type": "execute_result"
    }
   ],
   "source": [
    "## unique values\n",
    "heart_df.nunique()/heart_df.shape[0]"
   ]
  },
  {
   "cell_type": "code",
   "execution_count": 8,
   "id": "d548d1ed",
   "metadata": {
    "execution": {
     "iopub.execute_input": "2022-03-20T16:29:53.217345Z",
     "iopub.status.busy": "2022-03-20T16:29:53.216396Z",
     "iopub.status.idle": "2022-03-20T16:29:53.223804Z",
     "shell.execute_reply": "2022-03-20T16:29:53.224400Z",
     "shell.execute_reply.started": "2022-03-20T15:06:57.500018Z"
    },
    "papermill": {
     "duration": 0.091881,
     "end_time": "2022-03-20T16:29:53.224576",
     "exception": false,
     "start_time": "2022-03-20T16:29:53.132695",
     "status": "completed"
    },
    "tags": []
   },
   "outputs": [
    {
     "data": {
      "text/plain": [
       "male                 0\n",
       "age                  0\n",
       "education          105\n",
       "currentSmoker        0\n",
       "cigsPerDay          29\n",
       "BPMeds              53\n",
       "prevalentStroke      0\n",
       "prevalentHyp         0\n",
       "diabetes             0\n",
       "totChol             50\n",
       "sysBP                0\n",
       "diaBP                0\n",
       "BMI                 19\n",
       "heartRate            1\n",
       "glucose            388\n",
       "TenYearCHD           0\n",
       "dtype: int64"
      ]
     },
     "execution_count": 8,
     "metadata": {},
     "output_type": "execute_result"
    }
   ],
   "source": [
    "## null values\n",
    "heart_df.isnull().sum()"
   ]
  },
  {
   "cell_type": "markdown",
   "id": "cbf9658a",
   "metadata": {
    "papermill": {
     "duration": 0.081314,
     "end_time": "2022-03-20T16:29:53.387303",
     "exception": false,
     "start_time": "2022-03-20T16:29:53.305989",
     "status": "completed"
    },
    "tags": []
   },
   "source": [
    "# **DATA CLEANING**\n",
    "\n",
    "> Data cleaning is the process of fixing or removing incorrect, corrupted, incorrectly formatted, duplicate, or incomplete data within a dataset."
   ]
  },
  {
   "cell_type": "code",
   "execution_count": 9,
   "id": "6c9bc83e",
   "metadata": {
    "execution": {
     "iopub.execute_input": "2022-03-20T16:29:53.554298Z",
     "iopub.status.busy": "2022-03-20T16:29:53.553334Z",
     "iopub.status.idle": "2022-03-20T16:29:53.562870Z",
     "shell.execute_reply": "2022-03-20T16:29:53.563430Z",
     "shell.execute_reply.started": "2022-03-20T15:06:57.51321Z"
    },
    "papermill": {
     "duration": 0.094856,
     "end_time": "2022-03-20T16:29:53.563619",
     "exception": false,
     "start_time": "2022-03-20T16:29:53.468763",
     "status": "completed"
    },
    "tags": []
   },
   "outputs": [],
   "source": [
    "## Replacing null values with the mean value\n",
    "heart_df[\"education\"].fillna(heart_df[\"education\"].mean(),inplace=True)\n",
    "heart_df[\"cigsPerDay\"].fillna(heart_df[\"cigsPerDay\"].mean(),inplace=True)\n",
    "heart_df[\"BPMeds\"].fillna(heart_df[\"BPMeds\"].mean(),inplace=True)\n",
    "heart_df[\"totChol\"].fillna(heart_df[\"totChol\"].mean(),inplace=True)\n",
    "heart_df[\"BMI\"].fillna(heart_df[\"BMI\"].mean(),inplace=True)\n",
    "heart_df[\"heartRate\"].fillna(heart_df[\"heartRate\"].mean(),inplace=True)\n",
    "heart_df[\"glucose\"].fillna(heart_df[\"glucose\"].mean(),inplace=True)"
   ]
  },
  {
   "cell_type": "code",
   "execution_count": 10,
   "id": "e1da38fc",
   "metadata": {
    "execution": {
     "iopub.execute_input": "2022-03-20T16:29:53.730920Z",
     "iopub.status.busy": "2022-03-20T16:29:53.729938Z",
     "iopub.status.idle": "2022-03-20T16:29:53.737540Z",
     "shell.execute_reply": "2022-03-20T16:29:53.737984Z",
     "shell.execute_reply.started": "2022-03-20T15:06:57.529719Z"
    },
    "papermill": {
     "duration": 0.092869,
     "end_time": "2022-03-20T16:29:53.738155",
     "exception": false,
     "start_time": "2022-03-20T16:29:53.645286",
     "status": "completed"
    },
    "tags": []
   },
   "outputs": [
    {
     "data": {
      "text/plain": [
       "male               0\n",
       "age                0\n",
       "education          0\n",
       "currentSmoker      0\n",
       "cigsPerDay         0\n",
       "BPMeds             0\n",
       "prevalentStroke    0\n",
       "prevalentHyp       0\n",
       "diabetes           0\n",
       "totChol            0\n",
       "sysBP              0\n",
       "diaBP              0\n",
       "BMI                0\n",
       "heartRate          0\n",
       "glucose            0\n",
       "TenYearCHD         0\n",
       "dtype: int64"
      ]
     },
     "execution_count": 10,
     "metadata": {},
     "output_type": "execute_result"
    }
   ],
   "source": [
    "## Rechecking for null values\n",
    "heart_df.isnull().sum()"
   ]
  },
  {
   "cell_type": "code",
   "execution_count": 11,
   "id": "5907359a",
   "metadata": {
    "execution": {
     "iopub.execute_input": "2022-03-20T16:29:53.907061Z",
     "iopub.status.busy": "2022-03-20T16:29:53.906077Z",
     "iopub.status.idle": "2022-03-20T16:29:53.913388Z",
     "shell.execute_reply": "2022-03-20T16:29:53.912862Z",
     "shell.execute_reply.started": "2022-03-20T15:06:57.552332Z"
    },
    "papermill": {
     "duration": 0.09385,
     "end_time": "2022-03-20T16:29:53.913540",
     "exception": false,
     "start_time": "2022-03-20T16:29:53.819690",
     "status": "completed"
    },
    "tags": []
   },
   "outputs": [
    {
     "data": {
      "text/plain": [
       "0    3594\n",
       "1     644\n",
       "Name: TenYearCHD, dtype: int64"
      ]
     },
     "execution_count": 11,
     "metadata": {},
     "output_type": "execute_result"
    }
   ],
   "source": [
    "## CHD value counts\n",
    "heart_df.TenYearCHD.value_counts()"
   ]
  },
  {
   "cell_type": "markdown",
   "id": "67980ea6",
   "metadata": {
    "papermill": {
     "duration": 0.084834,
     "end_time": "2022-03-20T16:29:54.083714",
     "exception": false,
     "start_time": "2022-03-20T16:29:53.998880",
     "status": "completed"
    },
    "tags": []
   },
   "source": [
    "# **DATA VISUALIZATION**\n",
    "\n",
    "> Data visualization is the graphical representation of information and data. By using visual elements like charts, graphs, and maps, data visualization tools provide an accessible way to see and understand trends, outliers, and patterns in data."
   ]
  },
  {
   "cell_type": "code",
   "execution_count": 12,
   "id": "9d956ac8",
   "metadata": {
    "execution": {
     "iopub.execute_input": "2022-03-20T16:29:54.257994Z",
     "iopub.status.busy": "2022-03-20T16:29:54.257307Z",
     "iopub.status.idle": "2022-03-20T16:29:54.481322Z",
     "shell.execute_reply": "2022-03-20T16:29:54.482139Z",
     "shell.execute_reply.started": "2022-03-20T15:06:57.565511Z"
    },
    "papermill": {
     "duration": 0.31622,
     "end_time": "2022-03-20T16:29:54.482446",
     "exception": false,
     "start_time": "2022-03-20T16:29:54.166226",
     "status": "completed"
    },
    "tags": []
   },
   "outputs": [
    {
     "data": {
      "text/plain": [
       "<AxesSubplot:title={'center':'Distribution of Heart Disease'}, ylabel='TenYearCHD'>"
      ]
     },
     "execution_count": 12,
     "metadata": {},
     "output_type": "execute_result"
    },
    {
     "data": {
      "image/png": "[encoded data removed]",
      "text/plain": [
       "<Figure size 720x720 with 1 Axes>"
      ]
     },
     "metadata": {},
     "output_type": "display_data"
    }
   ],
   "source": [
    "## Distribution of heart diseases\n",
    "plt.figure(figsize=(10,10))\n",
    "plt.title(\"Distribution of Heart Disease\")\n",
    "heart_df[\"TenYearCHD\"].value_counts().plot(kind=\"pie\",autopct='%1.2f%%')"
   ]
  },
  {
   "cell_type": "markdown",
   "id": "834c6711",
   "metadata": {
    "papermill": {
     "duration": 0.084662,
     "end_time": "2022-03-20T16:29:54.659097",
     "exception": false,
     "start_time": "2022-03-20T16:29:54.574435",
     "status": "completed"
    },
    "tags": []
   },
   "source": [
    "The above pie chart indicates that 15.20% of the population is suffering from the heart diseases whereas 84.80% population is healthy. "
   ]
  },
  {
   "cell_type": "code",
   "execution_count": 13,
   "id": "91fe366d",
   "metadata": {
    "execution": {
     "iopub.execute_input": "2022-03-20T16:29:54.832709Z",
     "iopub.status.busy": "2022-03-20T16:29:54.832007Z",
     "iopub.status.idle": "2022-03-20T16:29:54.978935Z",
     "shell.execute_reply": "2022-03-20T16:29:54.979829Z",
     "shell.execute_reply.started": "2022-03-20T15:06:57.787145Z"
    },
    "papermill": {
     "duration": 0.235553,
     "end_time": "2022-03-20T16:29:54.980121",
     "exception": false,
     "start_time": "2022-03-20T16:29:54.744568",
     "status": "completed"
    },
    "tags": []
   },
   "outputs": [
    {
     "data": {
      "text/plain": [
       "<AxesSubplot:title={'center':'Male Distribution'}, ylabel='male'>"
      ]
     },
     "execution_count": 13,
     "metadata": {},
     "output_type": "execute_result"
    },
    {
     "data": {
      "image/png": "[encoded data removed]",
      "text/plain": [
       "<Figure size 720x720 with 1 Axes>"
      ]
     },
     "metadata": {},
     "output_type": "display_data"
    }
   ],
   "source": [
    "## Male population distribution\n",
    "plt.figure(figsize=(10,10))\n",
    "plt.title(\"Male Distribution\")\n",
    "heart_df[\"male\"].value_counts().plot(kind=\"pie\",autopct='%1.2f%%')"
   ]
  },
  {
   "cell_type": "markdown",
   "id": "2842a92c",
   "metadata": {
    "papermill": {
     "duration": 0.085905,
     "end_time": "2022-03-20T16:29:55.171592",
     "exception": false,
     "start_time": "2022-03-20T16:29:55.085687",
     "status": "completed"
    },
    "tags": []
   },
   "source": [
    "This dataset comprises of 42.92% of male population and 57.08% other genders. There is not much significant difference over the distribution of population."
   ]
  },
  {
   "cell_type": "code",
   "execution_count": 14,
   "id": "50bc41dc",
   "metadata": {
    "execution": {
     "iopub.execute_input": "2022-03-20T16:29:55.364613Z",
     "iopub.status.busy": "2022-03-20T16:29:55.363117Z",
     "iopub.status.idle": "2022-03-20T16:29:55.500112Z",
     "shell.execute_reply": "2022-03-20T16:29:55.501180Z",
     "shell.execute_reply.started": "2022-03-20T15:06:57.957637Z"
    },
    "papermill": {
     "duration": 0.244144,
     "end_time": "2022-03-20T16:29:55.501472",
     "exception": false,
     "start_time": "2022-03-20T16:29:55.257328",
     "status": "completed"
    },
    "tags": []
   },
   "outputs": [
    {
     "data": {
      "text/plain": [
       "<AxesSubplot:title={'center':'Smoker Distribution'}, ylabel='currentSmoker'>"
      ]
     },
     "execution_count": 14,
     "metadata": {},
     "output_type": "execute_result"
    },
    {
     "data": {
      "image/png": "[encoded data removed]",
      "text/plain": [
       "<Figure size 720x720 with 1 Axes>"
      ]
     },
     "metadata": {},
     "output_type": "display_data"
    }
   ],
   "source": [
    "## Currently Smokers distribution\n",
    "plt.figure(figsize=(10,10))\n",
    "plt.title(\"Smoker Distribution\")\n",
    "heart_df[\"currentSmoker\"].value_counts().plot(kind=\"pie\",autopct='%1.2f%%')"
   ]
  },
  {
   "cell_type": "markdown",
   "id": "c86a53df",
   "metadata": {
    "papermill": {
     "duration": 0.090036,
     "end_time": "2022-03-20T16:29:55.698421",
     "exception": false,
     "start_time": "2022-03-20T16:29:55.608385",
     "status": "completed"
    },
    "tags": []
   },
   "source": [
    "The pie chart indicates that 50.59% of the population currently are smokers and 49.41% are non smokers.\n",
    "There is no significant difference between currently smokers and non smokers."
   ]
  },
  {
   "cell_type": "code",
   "execution_count": 15,
   "id": "e68aa80a",
   "metadata": {
    "execution": {
     "iopub.execute_input": "2022-03-20T16:29:55.908838Z",
     "iopub.status.busy": "2022-03-20T16:29:55.897874Z",
     "iopub.status.idle": "2022-03-20T16:29:56.037986Z",
     "shell.execute_reply": "2022-03-20T16:29:56.039189Z",
     "shell.execute_reply.started": "2022-03-20T15:06:58.135889Z"
    },
    "papermill": {
     "duration": 0.25131,
     "end_time": "2022-03-20T16:29:56.039500",
     "exception": false,
     "start_time": "2022-03-20T16:29:55.788190",
     "status": "completed"
    },
    "tags": []
   },
   "outputs": [
    {
     "data": {
      "text/plain": [
       "<AxesSubplot:title={'center':'Diabetes Distribution'}, ylabel='diabetes'>"
      ]
     },
     "execution_count": 15,
     "metadata": {},
     "output_type": "execute_result"
    },
    {
     "data": {
      "image/png": "[encoded data removed]",
      "text/plain": [
       "<Figure size 720x720 with 1 Axes>"
      ]
     },
     "metadata": {},
     "output_type": "display_data"
    }
   ],
   "source": [
    "## Diabetes distribution\n",
    "plt.figure(figsize=(10,10))\n",
    "plt.title(\"Diabetes Distribution\")\n",
    "heart_df[\"diabetes\"].value_counts().plot(kind=\"pie\",autopct='%1.2f%%')"
   ]
  },
  {
   "cell_type": "markdown",
   "id": "f37c2576",
   "metadata": {
    "papermill": {
     "duration": 0.090734,
     "end_time": "2022-03-20T16:29:56.237788",
     "exception": false,
     "start_time": "2022-03-20T16:29:56.147054",
     "status": "completed"
    },
    "tags": []
   },
   "source": [
    "The pie chart indicates that only 2.57% of the population in the dataset is diabetic, 97.43% population is healthy. This imbalance in the distribution can affect the machine learning algorithms negatively."
   ]
  },
  {
   "cell_type": "code",
   "execution_count": 16,
   "id": "661d93da",
   "metadata": {
    "execution": {
     "iopub.execute_input": "2022-03-20T16:29:56.422711Z",
     "iopub.status.busy": "2022-03-20T16:29:56.421662Z",
     "iopub.status.idle": "2022-03-20T16:29:56.601732Z",
     "shell.execute_reply": "2022-03-20T16:29:56.600740Z",
     "shell.execute_reply.started": "2022-03-20T15:06:58.319595Z"
    },
    "papermill": {
     "duration": 0.274422,
     "end_time": "2022-03-20T16:29:56.601981",
     "exception": false,
     "start_time": "2022-03-20T16:29:56.327559",
     "status": "completed"
    },
    "tags": []
   },
   "outputs": [
    {
     "data": {
      "text/plain": [
       "<AxesSubplot:title={'center':'BP Medicine'}, ylabel='BPMeds'>"
      ]
     },
     "execution_count": 16,
     "metadata": {},
     "output_type": "execute_result"
    },
    {
     "data": {
      "image/png": "[encoded data removed]",
      "text/plain": [
       "<Figure size 720x720 with 1 Axes>"
      ]
     },
     "metadata": {},
     "output_type": "display_data"
    }
   ],
   "source": [
    "## BP Meds distribution\n",
    "plt.figure(figsize=(10,10))\n",
    "plt.title(\"BP Medicine\")\n",
    "heart_df[\"BPMeds\"].value_counts().plot(kind=\"pie\",autopct='%1.2f%%')"
   ]
  },
  {
   "cell_type": "markdown",
   "id": "52e8ff17",
   "metadata": {
    "papermill": {
     "duration": 0.089985,
     "end_time": "2022-03-20T16:29:56.794722",
     "exception": false,
     "start_time": "2022-03-20T16:29:56.704737",
     "status": "completed"
    },
    "tags": []
   },
   "source": [
    "According to the plot, 96% population doesnot take the BP Medicines."
   ]
  },
  {
   "cell_type": "code",
   "execution_count": 17,
   "id": "37d44909",
   "metadata": {
    "execution": {
     "iopub.execute_input": "2022-03-20T16:29:56.983593Z",
     "iopub.status.busy": "2022-03-20T16:29:56.982582Z",
     "iopub.status.idle": "2022-03-20T16:29:57.137482Z",
     "shell.execute_reply": "2022-03-20T16:29:57.138351Z",
     "shell.execute_reply.started": "2022-03-20T15:06:58.522276Z"
    },
    "papermill": {
     "duration": 0.254145,
     "end_time": "2022-03-20T16:29:57.138631",
     "exception": false,
     "start_time": "2022-03-20T16:29:56.884486",
     "status": "completed"
    },
    "tags": []
   },
   "outputs": [
    {
     "data": {
      "text/plain": [
       "<AxesSubplot:title={'center':'Stroke'}, ylabel='prevalentStroke'>"
      ]
     },
     "execution_count": 17,
     "metadata": {},
     "output_type": "execute_result"
    },
    {
     "data": {
      "image/png": "[encoded data removed]",
      "text/plain": [
       "<Figure size 720x720 with 1 Axes>"
      ]
     },
     "metadata": {},
     "output_type": "display_data"
    }
   ],
   "source": [
    "## stroke distribution\n",
    "plt.figure(figsize=(10,10))\n",
    "plt.title(\"Stroke\")\n",
    "heart_df[\"prevalentStroke\"].value_counts().plot(kind=\"pie\",autopct='%1.2f%%')"
   ]
  },
  {
   "cell_type": "markdown",
   "id": "ee192b15",
   "metadata": {
    "papermill": {
     "duration": 0.10256,
     "end_time": "2022-03-20T16:29:57.350448",
     "exception": false,
     "start_time": "2022-03-20T16:29:57.247888",
     "status": "completed"
    },
    "tags": []
   },
   "source": [
    "According to the plot, 99% of the population is not suffering from prevalent Stroke."
   ]
  },
  {
   "cell_type": "code",
   "execution_count": 18,
   "id": "cc9a32a0",
   "metadata": {
    "execution": {
     "iopub.execute_input": "2022-03-20T16:29:57.541563Z",
     "iopub.status.busy": "2022-03-20T16:29:57.540847Z",
     "iopub.status.idle": "2022-03-20T16:29:57.697313Z",
     "shell.execute_reply": "2022-03-20T16:29:57.696333Z",
     "shell.execute_reply.started": "2022-03-20T15:06:58.693007Z"
    },
    "papermill": {
     "duration": 0.255741,
     "end_time": "2022-03-20T16:29:57.697583",
     "exception": false,
     "start_time": "2022-03-20T16:29:57.441842",
     "status": "completed"
    },
    "tags": []
   },
   "outputs": [
    {
     "data": {
      "text/plain": [
       "<AxesSubplot:title={'center':'Hypertension'}, ylabel='prevalentHyp'>"
      ]
     },
     "execution_count": 18,
     "metadata": {},
     "output_type": "execute_result"
    },
    {
     "data": {
      "image/png": "[encoded data removed]",
      "text/plain": [
       "<Figure size 720x720 with 1 Axes>"
      ]
     },
     "metadata": {},
     "output_type": "display_data"
    }
   ],
   "source": [
    "## Hypertension distribution\n",
    "plt.figure(figsize=(10,10))\n",
    "plt.title(\"Hypertension\")\n",
    "heart_df[\"prevalentHyp\"].value_counts().plot(kind=\"pie\",autopct='%1.2f%%')"
   ]
  },
  {
   "cell_type": "markdown",
   "id": "27c65c30",
   "metadata": {
    "papermill": {
     "duration": 0.09384,
     "end_time": "2022-03-20T16:29:57.901139",
     "exception": false,
     "start_time": "2022-03-20T16:29:57.807299",
     "status": "completed"
    },
    "tags": []
   },
   "source": [
    "According to the plot, 31% of the population is suffering from Hypertension."
   ]
  },
  {
   "cell_type": "code",
   "execution_count": 19,
   "id": "79bd86e4",
   "metadata": {
    "execution": {
     "iopub.execute_input": "2022-03-20T16:29:58.094505Z",
     "iopub.status.busy": "2022-03-20T16:29:58.093851Z",
     "iopub.status.idle": "2022-03-20T16:29:58.415865Z",
     "shell.execute_reply": "2022-03-20T16:29:58.415330Z",
     "shell.execute_reply.started": "2022-03-20T15:06:58.863993Z"
    },
    "papermill": {
     "duration": 0.419434,
     "end_time": "2022-03-20T16:29:58.416011",
     "exception": false,
     "start_time": "2022-03-20T16:29:57.996577",
     "status": "completed"
    },
    "tags": []
   },
   "outputs": [
    {
     "data": {
      "text/plain": [
       "Text(0.5, 1.0, 'Heart Rate impact on Heart Disase')"
      ]
     },
     "execution_count": 19,
     "metadata": {},
     "output_type": "execute_result"
    },
    {
     "data": {
      "image/png": "[encoded data removed]",
      "text/plain": [
       "<Figure size 720x720 with 1 Axes>"
      ]
     },
     "metadata": {
      "needs_background": "light"
     },
     "output_type": "display_data"
    }
   ],
   "source": [
    "## bar plot to plot heart disease affect on heart rate\n",
    "plt.figure(figsize=(10,10))\n",
    "sns.barplot(x=\"TenYearCHD\",y=\"heartRate\",data=heart_df)\n",
    "plt.title(\"Heart Rate impact on Heart Disase\")"
   ]
  },
  {
   "cell_type": "markdown",
   "id": "9a7757d0",
   "metadata": {
    "papermill": {
     "duration": 0.097049,
     "end_time": "2022-03-20T16:29:58.608631",
     "exception": false,
     "start_time": "2022-03-20T16:29:58.511582",
     "status": "completed"
    },
    "tags": []
   },
   "source": [
    "According to the plot, heart rate doesnot have much impact on heart diseases."
   ]
  },
  {
   "cell_type": "code",
   "execution_count": 20,
   "id": "a664d3bc",
   "metadata": {
    "execution": {
     "iopub.execute_input": "2022-03-20T16:29:58.804147Z",
     "iopub.status.busy": "2022-03-20T16:29:58.803487Z",
     "iopub.status.idle": "2022-03-20T16:29:59.104225Z",
     "shell.execute_reply": "2022-03-20T16:29:59.103712Z",
     "shell.execute_reply.started": "2022-03-20T15:06:59.202398Z"
    },
    "papermill": {
     "duration": 0.39841,
     "end_time": "2022-03-20T16:29:59.104397",
     "exception": false,
     "start_time": "2022-03-20T16:29:58.705987",
     "status": "completed"
    },
    "tags": []
   },
   "outputs": [
    {
     "data": {
      "text/plain": [
       "Text(0.5, 1.0, 'Cholestrol impact on Heart Disase')"
      ]
     },
     "execution_count": 20,
     "metadata": {},
     "output_type": "execute_result"
    },
    {
     "data": {
      "image/png": "[encoded data removed]",
      "text/plain": [
       "<Figure size 720x720 with 1 Axes>"
      ]
     },
     "metadata": {
      "needs_background": "light"
     },
     "output_type": "display_data"
    }
   ],
   "source": [
    "## bar plot to plot heart disease affect on Cholestrol\n",
    "plt.figure(figsize=(10,10))\n",
    "sns.barplot(x=\"TenYearCHD\",y=\"totChol\",data=heart_df)\n",
    "plt.title(\"Cholestrol impact on Heart Disase\")"
   ]
  },
  {
   "cell_type": "markdown",
   "id": "ffd33dae",
   "metadata": {
    "papermill": {
     "duration": 0.097195,
     "end_time": "2022-03-20T16:29:59.298263",
     "exception": false,
     "start_time": "2022-03-20T16:29:59.201068",
     "status": "completed"
    },
    "tags": []
   },
   "source": [
    "According to the plot, There is not much difference in Cholestrol level of population suffering from heart diseases and not suffering from it."
   ]
  },
  {
   "cell_type": "code",
   "execution_count": 21,
   "id": "9a07556c",
   "metadata": {
    "execution": {
     "iopub.execute_input": "2022-03-20T16:29:59.497592Z",
     "iopub.status.busy": "2022-03-20T16:29:59.496917Z",
     "iopub.status.idle": "2022-03-20T16:29:59.787080Z",
     "shell.execute_reply": "2022-03-20T16:29:59.787650Z",
     "shell.execute_reply.started": "2022-03-20T15:06:59.516633Z"
    },
    "papermill": {
     "duration": 0.393741,
     "end_time": "2022-03-20T16:29:59.787828",
     "exception": false,
     "start_time": "2022-03-20T16:29:59.394087",
     "status": "completed"
    },
    "tags": []
   },
   "outputs": [
    {
     "data": {
      "text/plain": [
       "Text(0.5, 1.0, 'Glucose impact on Heart Disase')"
      ]
     },
     "execution_count": 21,
     "metadata": {},
     "output_type": "execute_result"
    },
    {
     "data": {
      "image/png": "[encoded data removed]",
      "text/plain": [
       "<Figure size 720x720 with 1 Axes>"
      ]
     },
     "metadata": {
      "needs_background": "light"
     },
     "output_type": "display_data"
    }
   ],
   "source": [
    "## bar plot to plot glucose level impact on heart disease\n",
    "plt.figure(figsize=(10,10))\n",
    "sns.barplot(x=\"TenYearCHD\",y=\"glucose\",data=heart_df)\n",
    "plt.title(\"Glucose impact on Heart Disase\")"
   ]
  },
  {
   "cell_type": "markdown",
   "id": "803469fb",
   "metadata": {
    "papermill": {
     "duration": 0.098819,
     "end_time": "2022-03-20T16:29:59.985807",
     "exception": false,
     "start_time": "2022-03-20T16:29:59.886988",
     "status": "completed"
    },
    "tags": []
   },
   "source": [
    "According to the plot, the glucose level doesnot have significant difference on the heart diseases."
   ]
  },
  {
   "cell_type": "code",
   "execution_count": 22,
   "id": "ecdd7b32",
   "metadata": {
    "execution": {
     "iopub.execute_input": "2022-03-20T16:30:00.183015Z",
     "iopub.status.busy": "2022-03-20T16:30:00.182425Z",
     "iopub.status.idle": "2022-03-20T16:30:00.475598Z",
     "shell.execute_reply": "2022-03-20T16:30:00.476121Z",
     "shell.execute_reply.started": "2022-03-20T15:06:59.817388Z"
    },
    "papermill": {
     "duration": 0.393038,
     "end_time": "2022-03-20T16:30:00.476309",
     "exception": false,
     "start_time": "2022-03-20T16:30:00.083271",
     "status": "completed"
    },
    "tags": []
   },
   "outputs": [
    {
     "data": {
      "text/plain": [
       "Text(0.5, 1.0, 'BMI impact on Heart Disase')"
      ]
     },
     "execution_count": 22,
     "metadata": {},
     "output_type": "execute_result"
    },
    {
     "data": {
      "image/png": "[encoded data removed]",
      "text/plain": [
       "<Figure size 720x720 with 1 Axes>"
      ]
     },
     "metadata": {
      "needs_background": "light"
     },
     "output_type": "display_data"
    }
   ],
   "source": [
    "## bar plot to plot BMI impact on heart disease\n",
    "plt.figure(figsize=(10,10))\n",
    "sns.barplot(x=\"TenYearCHD\",y=\"BMI\",data=heart_df)\n",
    "plt.title(\"BMI impact on Heart Disase\")"
   ]
  },
  {
   "cell_type": "markdown",
   "id": "faf2a10f",
   "metadata": {
    "execution": {
     "iopub.execute_input": "2022-03-20T09:13:39.661937Z",
     "iopub.status.busy": "2022-03-20T09:13:39.661231Z",
     "iopub.status.idle": "2022-03-20T09:13:39.667984Z",
     "shell.execute_reply": "2022-03-20T09:13:39.666958Z",
     "shell.execute_reply.started": "2022-03-20T09:13:39.661887Z"
    },
    "papermill": {
     "duration": 0.101215,
     "end_time": "2022-03-20T16:30:00.677450",
     "exception": false,
     "start_time": "2022-03-20T16:30:00.576235",
     "status": "completed"
    },
    "tags": []
   },
   "source": [
    "According to the plot, BMI doesnot have significant difference on the heart diseses."
   ]
  },
  {
   "cell_type": "code",
   "execution_count": 23,
   "id": "55ec23f7",
   "metadata": {
    "execution": {
     "iopub.execute_input": "2022-03-20T16:30:00.882905Z",
     "iopub.status.busy": "2022-03-20T16:30:00.882286Z",
     "iopub.status.idle": "2022-03-20T16:30:01.171723Z",
     "shell.execute_reply": "2022-03-20T16:30:01.172180Z",
     "shell.execute_reply.started": "2022-03-20T15:07:00.122071Z"
    },
    "papermill": {
     "duration": 0.393781,
     "end_time": "2022-03-20T16:30:01.172370",
     "exception": false,
     "start_time": "2022-03-20T16:30:00.778589",
     "status": "completed"
    },
    "tags": []
   },
   "outputs": [
    {
     "data": {
      "text/plain": [
       "Text(0.5, 1.0, 'diaBP impact on Heart Disase')"
      ]
     },
     "execution_count": 23,
     "metadata": {},
     "output_type": "execute_result"
    },
    {
     "data": {
      "image/png": "[encoded data removed]",
      "text/plain": [
       "<Figure size 720x720 with 1 Axes>"
      ]
     },
     "metadata": {
      "needs_background": "light"
     },
     "output_type": "display_data"
    }
   ],
   "source": [
    "## bar plot to plot diaBp impact on heart disease\n",
    "plt.figure(figsize=(10,10))\n",
    "sns.barplot(x=\"TenYearCHD\",y=\"diaBP\",data=heart_df)\n",
    "plt.title(\"diaBP impact on Heart Disase\")"
   ]
  },
  {
   "cell_type": "code",
   "execution_count": 24,
   "id": "7a80340f",
   "metadata": {
    "execution": {
     "iopub.execute_input": "2022-03-20T16:30:01.374850Z",
     "iopub.status.busy": "2022-03-20T16:30:01.374185Z",
     "iopub.status.idle": "2022-03-20T16:30:01.690290Z",
     "shell.execute_reply": "2022-03-20T16:30:01.691039Z",
     "shell.execute_reply.started": "2022-03-20T15:07:00.431646Z"
    },
    "papermill": {
     "duration": 0.419408,
     "end_time": "2022-03-20T16:30:01.691291",
     "exception": false,
     "start_time": "2022-03-20T16:30:01.271883",
     "status": "completed"
    },
    "tags": []
   },
   "outputs": [
    {
     "data": {
      "text/plain": [
       "Text(0.5, 1.0, 'BP impact on Heart Disase')"
      ]
     },
     "execution_count": 24,
     "metadata": {},
     "output_type": "execute_result"
    },
    {
     "data": {
      "image/png": "[encoded data removed]",
      "text/plain": [
       "<Figure size 720x720 with 1 Axes>"
      ]
     },
     "metadata": {
      "needs_background": "light"
     },
     "output_type": "display_data"
    }
   ],
   "source": [
    "## bar plot to plot sysBP impact on heart disease\n",
    "plt.figure(figsize=(10,10))\n",
    "sns.barplot(x=\"TenYearCHD\",y=\"sysBP\",data=heart_df)\n",
    "plt.title(\"BP impact on Heart Disase\")"
   ]
  },
  {
   "cell_type": "code",
   "execution_count": 25,
   "id": "0d52f28b",
   "metadata": {
    "execution": {
     "iopub.execute_input": "2022-03-20T16:30:01.912478Z",
     "iopub.status.busy": "2022-03-20T16:30:01.911821Z",
     "iopub.status.idle": "2022-03-20T16:30:02.216544Z",
     "shell.execute_reply": "2022-03-20T16:30:02.215970Z",
     "shell.execute_reply.started": "2022-03-20T15:07:00.719369Z"
    },
    "papermill": {
     "duration": 0.415051,
     "end_time": "2022-03-20T16:30:02.216691",
     "exception": false,
     "start_time": "2022-03-20T16:30:01.801640",
     "status": "completed"
    },
    "tags": []
   },
   "outputs": [
    {
     "data": {
      "text/plain": [
       "Text(0.5, 1.0, 'Ciagrettes impact on Heart Disase')"
      ]
     },
     "execution_count": 25,
     "metadata": {},
     "output_type": "execute_result"
    },
    {
     "data": {
      "image/png": "[encoded data removed]",
      "text/plain": [
       "<Figure size 720x720 with 1 Axes>"
      ]
     },
     "metadata": {
      "needs_background": "light"
     },
     "output_type": "display_data"
    }
   ],
   "source": [
    "## bar plot to plot cigs per day impact on heart disease\n",
    "plt.figure(figsize=(10,10))\n",
    "sns.barplot(x=\"TenYearCHD\",y=\"cigsPerDay\",data=heart_df)\n",
    "\n",
    "plt.title(\"Ciagrettes impact on Heart Disase\")"
   ]
  },
  {
   "cell_type": "markdown",
   "id": "23ae84da",
   "metadata": {
    "papermill": {
     "duration": 0.101836,
     "end_time": "2022-03-20T16:30:02.420060",
     "exception": false,
     "start_time": "2022-03-20T16:30:02.318224",
     "status": "completed"
    },
    "tags": []
   },
   "source": [
    "According to the plot, the population with heart diseases smoke more ciagrettes per day than from the population not suffering from the heart diseases."
   ]
  },
  {
   "cell_type": "code",
   "execution_count": 26,
   "id": "914e53bd",
   "metadata": {
    "execution": {
     "iopub.execute_input": "2022-03-20T16:30:02.632342Z",
     "iopub.status.busy": "2022-03-20T16:30:02.631646Z",
     "iopub.status.idle": "2022-03-20T16:30:03.081354Z",
     "shell.execute_reply": "2022-03-20T16:30:03.081879Z",
     "shell.execute_reply.started": "2022-03-20T15:07:01.059495Z"
    },
    "papermill": {
     "duration": 0.560117,
     "end_time": "2022-03-20T16:30:03.082069",
     "exception": false,
     "start_time": "2022-03-20T16:30:02.521952",
     "status": "completed"
    },
    "tags": []
   },
   "outputs": [
    {
     "data": {
      "text/plain": [
       "Text(0.5, 1.0, 'Stroke impact on Heart Disase')"
      ]
     },
     "execution_count": 26,
     "metadata": {},
     "output_type": "execute_result"
    },
    {
     "data": {
      "image/png": "[encoded data removed]",
      "text/plain": [
       "<Figure size 720x720 with 1 Axes>"
      ]
     },
     "metadata": {
      "needs_background": "light"
     },
     "output_type": "display_data"
    }
   ],
   "source": [
    "## bar plot to plot stroke impact on heart disease\n",
    "plt.figure(figsize=(10,10))\n",
    "sns.barplot(x=\"TenYearCHD\",y=\"prevalentStroke\",data=heart_df)\n",
    "\n",
    "plt.title(\"Stroke impact on Heart Disase\")"
   ]
  },
  {
   "cell_type": "markdown",
   "id": "7a944d0b",
   "metadata": {
    "papermill": {
     "duration": 0.105052,
     "end_time": "2022-03-20T16:30:03.293703",
     "exception": false,
     "start_time": "2022-03-20T16:30:03.188651",
     "status": "completed"
    },
    "tags": []
   },
   "source": [
    "According to the plot, population suffering from Stroke has higher probability of suffering from heart diseses."
   ]
  },
  {
   "cell_type": "code",
   "execution_count": 27,
   "id": "3b6e7480",
   "metadata": {
    "execution": {
     "iopub.execute_input": "2022-03-20T16:30:03.509777Z",
     "iopub.status.busy": "2022-03-20T16:30:03.505778Z",
     "iopub.status.idle": "2022-03-20T16:30:03.825605Z",
     "shell.execute_reply": "2022-03-20T16:30:03.824799Z",
     "shell.execute_reply.started": "2022-03-20T15:07:01.587441Z"
    },
    "papermill": {
     "duration": 0.427209,
     "end_time": "2022-03-20T16:30:03.825769",
     "exception": false,
     "start_time": "2022-03-20T16:30:03.398560",
     "status": "completed"
    },
    "tags": []
   },
   "outputs": [
    {
     "data": {
      "text/plain": [
       "Text(0.5, 1.0, 'Hypertension impact on Heart Disase')"
      ]
     },
     "execution_count": 27,
     "metadata": {},
     "output_type": "execute_result"
    },
    {
     "data": {
      "image/png": "[encoded data removed]",
      "text/plain": [
       "<Figure size 720x720 with 1 Axes>"
      ]
     },
     "metadata": {
      "needs_background": "light"
     },
     "output_type": "display_data"
    }
   ],
   "source": [
    "## bar plot to plot hypertension impact on heart disease\n",
    "plt.figure(figsize=(10,10))\n",
    "sns.barplot(x=\"TenYearCHD\",y=\"prevalentHyp\",data=heart_df)\n",
    "\n",
    "plt.title(\"Hypertension impact on Heart Disase\")"
   ]
  },
  {
   "cell_type": "markdown",
   "id": "47321023",
   "metadata": {
    "papermill": {
     "duration": 0.110731,
     "end_time": "2022-03-20T16:30:04.043559",
     "exception": false,
     "start_time": "2022-03-20T16:30:03.932828",
     "status": "completed"
    },
    "tags": []
   },
   "source": [
    "According to the plot, population suffering from Hypertension have higher chances of having Heart Diseases."
   ]
  },
  {
   "cell_type": "code",
   "execution_count": 28,
   "id": "a2c73d48",
   "metadata": {
    "execution": {
     "iopub.execute_input": "2022-03-20T16:30:04.262846Z",
     "iopub.status.busy": "2022-03-20T16:30:04.262105Z",
     "iopub.status.idle": "2022-03-20T16:30:04.528668Z",
     "shell.execute_reply": "2022-03-20T16:30:04.529171Z",
     "shell.execute_reply.started": "2022-03-20T15:07:01.9027Z"
    },
    "papermill": {
     "duration": 0.380142,
     "end_time": "2022-03-20T16:30:04.529366",
     "exception": false,
     "start_time": "2022-03-20T16:30:04.149224",
     "status": "completed"
    },
    "tags": []
   },
   "outputs": [
    {
     "data": {
      "text/plain": [
       "Text(0.5, 1.0, 'Cholestrol impact on Heart Rate for male')"
      ]
     },
     "execution_count": 28,
     "metadata": {},
     "output_type": "execute_result"
    },
    {
     "data": {
      "image/png": "[encoded data removed]",
      "text/plain": [
       "<Figure size 720x720 with 1 Axes>"
      ]
     },
     "metadata": {
      "needs_background": "light"
     },
     "output_type": "display_data"
    }
   ],
   "source": [
    "plt.figure(figsize=(10,10))\n",
    "sns.scatterplot(y = 'totChol', x = 'heartRate',data=heart_df[heart_df.male==1])\n",
    "plt.title(\"Cholestrol impact on Heart Rate for male\")"
   ]
  },
  {
   "cell_type": "markdown",
   "id": "3ba1e663",
   "metadata": {
    "papermill": {
     "duration": 0.107052,
     "end_time": "2022-03-20T16:30:04.744405",
     "exception": false,
     "start_time": "2022-03-20T16:30:04.637353",
     "status": "completed"
    },
    "tags": []
   },
   "source": [
    "According to the plot, the heart rate of the male population keeps on increasing, irrespective of the Cholestrol level."
   ]
  },
  {
   "cell_type": "code",
   "execution_count": 29,
   "id": "c96659e4",
   "metadata": {
    "execution": {
     "iopub.execute_input": "2022-03-20T16:30:04.965558Z",
     "iopub.status.busy": "2022-03-20T16:30:04.961813Z",
     "iopub.status.idle": "2022-03-20T16:30:05.231571Z",
     "shell.execute_reply": "2022-03-20T16:30:05.232074Z",
     "shell.execute_reply.started": "2022-03-20T15:07:02.193712Z"
    },
    "papermill": {
     "duration": 0.380694,
     "end_time": "2022-03-20T16:30:05.232262",
     "exception": false,
     "start_time": "2022-03-20T16:30:04.851568",
     "status": "completed"
    },
    "tags": []
   },
   "outputs": [
    {
     "data": {
      "text/plain": [
       "Text(0.5, 1.0, 'Cholestrol impact on Heart Rate for female')"
      ]
     },
     "execution_count": 29,
     "metadata": {},
     "output_type": "execute_result"
    },
    {
     "data": {
      "image/png": "[encoded data removed]",
      "text/plain": [
       "<Figure size 720x720 with 1 Axes>"
      ]
     },
     "metadata": {
      "needs_background": "light"
     },
     "output_type": "display_data"
    }
   ],
   "source": [
    "plt.figure(figsize=(10,10))\n",
    "sns.scatterplot(y = 'totChol', x = 'heartRate',data=heart_df[heart_df.male==0])\n",
    "plt.title(\"Cholestrol impact on Heart Rate for female\")"
   ]
  },
  {
   "cell_type": "markdown",
   "id": "e8300c61",
   "metadata": {
    "papermill": {
     "duration": 0.10975,
     "end_time": "2022-03-20T16:30:05.452582",
     "exception": false,
     "start_time": "2022-03-20T16:30:05.342832",
     "status": "completed"
    },
    "tags": []
   },
   "source": [
    "# **SPLITTING DATA - TRAINING AND TESTING SETS**"
   ]
  },
  {
   "cell_type": "code",
   "execution_count": 30,
   "id": "bb7c10bb",
   "metadata": {
    "execution": {
     "iopub.execute_input": "2022-03-20T16:30:05.679882Z",
     "iopub.status.busy": "2022-03-20T16:30:05.679013Z",
     "iopub.status.idle": "2022-03-20T16:30:05.945230Z",
     "shell.execute_reply": "2022-03-20T16:30:05.945799Z",
     "shell.execute_reply.started": "2022-03-20T15:07:02.474289Z"
    },
    "papermill": {
     "duration": 0.382049,
     "end_time": "2022-03-20T16:30:05.945998",
     "exception": false,
     "start_time": "2022-03-20T16:30:05.563949",
     "status": "completed"
    },
    "tags": []
   },
   "outputs": [],
   "source": [
    "## importing packages\n",
    "\n",
    "from sklearn.model_selection import train_test_split\n",
    "from sklearn.metrics import confusion_matrix , classification_report,accuracy_score\n",
    "from sklearn.metrics import roc_curve , auc\n",
    "from sklearn.linear_model import LogisticRegression\n",
    "from sklearn.preprocessing import StandardScaler"
   ]
  },
  {
   "cell_type": "code",
   "execution_count": 31,
   "id": "946c31f6",
   "metadata": {
    "execution": {
     "iopub.execute_input": "2022-03-20T16:30:06.173915Z",
     "iopub.status.busy": "2022-03-20T16:30:06.173160Z",
     "iopub.status.idle": "2022-03-20T16:30:06.182361Z",
     "shell.execute_reply": "2022-03-20T16:30:06.182845Z",
     "shell.execute_reply.started": "2022-03-20T15:07:02.563316Z"
    },
    "papermill": {
     "duration": 0.122937,
     "end_time": "2022-03-20T16:30:06.183028",
     "exception": false,
     "start_time": "2022-03-20T16:30:06.060091",
     "status": "completed"
    },
    "tags": []
   },
   "outputs": [
    {
     "name": "stdout",
     "output_type": "stream",
     "text": [
      "Columns in X : Index(['male', 'age', 'education', 'currentSmoker', 'cigsPerDay', 'BPMeds',\n",
      "       'prevalentStroke', 'prevalentHyp', 'diabetes', 'totChol', 'sysBP',\n",
      "       'diaBP', 'BMI', 'heartRate', 'glucose'],\n",
      "      dtype='object')\n",
      "y : 0       0\n",
      "1       0\n",
      "2       0\n",
      "3       1\n",
      "4       0\n",
      "       ..\n",
      "4233    1\n",
      "4234    0\n",
      "4235    0\n",
      "4236    0\n",
      "4237    0\n",
      "Name: TenYearCHD, Length: 4238, dtype: int64\n",
      "shape of X: (4238, 15)\n",
      "shape of y: 4238\n"
     ]
    }
   ],
   "source": [
    "## Defining variables X,y \n",
    "X= heart_df.drop(\"TenYearCHD\",axis=1)\n",
    "y=heart_df[\"TenYearCHD\"]\n",
    "print(\"Columns in X :\",X.columns)\n",
    "print(\"y :\",y)\n",
    "print(\"shape of X:\",X.shape)\n",
    "print(\"shape of y:\",y.shape[0])"
   ]
  },
  {
   "cell_type": "code",
   "execution_count": 32,
   "id": "842e0816",
   "metadata": {
    "execution": {
     "iopub.execute_input": "2022-03-20T16:30:06.410361Z",
     "iopub.status.busy": "2022-03-20T16:30:06.409625Z",
     "iopub.status.idle": "2022-03-20T16:30:06.415309Z",
     "shell.execute_reply": "2022-03-20T16:30:06.415827Z",
     "shell.execute_reply.started": "2022-03-20T15:07:02.580457Z"
    },
    "papermill": {
     "duration": 0.121444,
     "end_time": "2022-03-20T16:30:06.415994",
     "exception": false,
     "start_time": "2022-03-20T16:30:06.294550",
     "status": "completed"
    },
    "tags": []
   },
   "outputs": [],
   "source": [
    "## Splitting data into training and test sets\n",
    "X_train, X_test, y_train, y_test = train_test_split(X, y, test_size = 0.25, random_state = 0)"
   ]
  },
  {
   "cell_type": "markdown",
   "id": "d5e4f185",
   "metadata": {
    "papermill": {
     "duration": 0.112454,
     "end_time": "2022-03-20T16:30:06.641209",
     "exception": false,
     "start_time": "2022-03-20T16:30:06.528755",
     "status": "completed"
    },
    "tags": []
   },
   "source": [
    "# **MODEL TRAINING**"
   ]
  },
  {
   "cell_type": "code",
   "execution_count": 33,
   "id": "41eebb4e",
   "metadata": {
    "execution": {
     "iopub.execute_input": "2022-03-20T16:30:06.904768Z",
     "iopub.status.busy": "2022-03-20T16:30:06.904020Z",
     "iopub.status.idle": "2022-03-20T16:30:06.921640Z",
     "shell.execute_reply": "2022-03-20T16:30:06.922299Z",
     "shell.execute_reply.started": "2022-03-20T15:07:02.593842Z"
    },
    "papermill": {
     "duration": 0.157275,
     "end_time": "2022-03-20T16:30:06.922491",
     "exception": false,
     "start_time": "2022-03-20T16:30:06.765216",
     "status": "completed"
    },
    "tags": []
   },
   "outputs": [],
   "source": [
    "## Scaling the data \n",
    "sc= StandardScaler()\n",
    "X_train = sc.fit_transform(X_train)\n",
    "X_test=sc.transform(X_test)\n",
    "X_train=pd.DataFrame(X_train,columns=X.columns)\n",
    "X_test=pd.DataFrame(X_test,columns=X.columns)"
   ]
  },
  {
   "cell_type": "code",
   "execution_count": 34,
   "id": "616a5e9f",
   "metadata": {
    "execution": {
     "iopub.execute_input": "2022-03-20T16:30:07.180803Z",
     "iopub.status.busy": "2022-03-20T16:30:07.180089Z",
     "iopub.status.idle": "2022-03-20T16:30:07.235560Z",
     "shell.execute_reply": "2022-03-20T16:30:07.236545Z",
     "shell.execute_reply.started": "2022-03-20T15:07:02.611849Z"
    },
    "papermill": {
     "duration": 0.191142,
     "end_time": "2022-03-20T16:30:07.236826",
     "exception": false,
     "start_time": "2022-03-20T16:30:07.045684",
     "status": "completed"
    },
    "tags": []
   },
   "outputs": [
    {
     "data": {
      "text/plain": [
       "LogisticRegression()"
      ]
     },
     "execution_count": 34,
     "metadata": {},
     "output_type": "execute_result"
    }
   ],
   "source": [
    "## Training the model using Logistic Regression\n",
    "model=LogisticRegression()\n",
    "model.fit(X_train,y_train)"
   ]
  },
  {
   "cell_type": "code",
   "execution_count": 35,
   "id": "cabc0d81",
   "metadata": {
    "execution": {
     "iopub.execute_input": "2022-03-20T16:30:07.534513Z",
     "iopub.status.busy": "2022-03-20T16:30:07.533289Z",
     "iopub.status.idle": "2022-03-20T16:30:07.536305Z",
     "shell.execute_reply": "2022-03-20T16:30:07.535493Z",
     "shell.execute_reply.started": "2022-03-20T15:07:02.645788Z"
    },
    "papermill": {
     "duration": 0.124121,
     "end_time": "2022-03-20T16:30:07.536500",
     "exception": false,
     "start_time": "2022-03-20T16:30:07.412379",
     "status": "completed"
    },
    "tags": []
   },
   "outputs": [],
   "source": [
    "## Predicting data\n",
    "y_pred=model.predict(X_test)"
   ]
  },
  {
   "cell_type": "code",
   "execution_count": 36,
   "id": "ba11effe",
   "metadata": {
    "execution": {
     "iopub.execute_input": "2022-03-20T16:30:07.847857Z",
     "iopub.status.busy": "2022-03-20T16:30:07.847147Z",
     "iopub.status.idle": "2022-03-20T16:30:07.856043Z",
     "shell.execute_reply": "2022-03-20T16:30:07.856579Z",
     "shell.execute_reply.started": "2022-03-20T15:07:02.659397Z"
    },
    "papermill": {
     "duration": 0.126013,
     "end_time": "2022-03-20T16:30:07.856747",
     "exception": false,
     "start_time": "2022-03-20T16:30:07.730734",
     "status": "completed"
    },
    "tags": []
   },
   "outputs": [
    {
     "name": "stdout",
     "output_type": "stream",
     "text": [
      "              precision    recall  f1-score   support\n",
      "\n",
      "           0       0.85      0.99      0.91       890\n",
      "           1       0.65      0.06      0.12       170\n",
      "\n",
      "    accuracy                           0.84      1060\n",
      "   macro avg       0.75      0.53      0.52      1060\n",
      "weighted avg       0.82      0.84      0.79      1060\n",
      "\n"
     ]
    }
   ],
   "source": [
    "## classification report\n",
    "print(classification_report(y_test,y_pred))"
   ]
  },
  {
   "cell_type": "code",
   "execution_count": 37,
   "id": "86a47c94",
   "metadata": {
    "execution": {
     "iopub.execute_input": "2022-03-20T16:30:08.093228Z",
     "iopub.status.busy": "2022-03-20T16:30:08.089510Z",
     "iopub.status.idle": "2022-03-20T16:30:08.308956Z",
     "shell.execute_reply": "2022-03-20T16:30:08.309451Z",
     "shell.execute_reply.started": "2022-03-20T15:07:02.687886Z"
    },
    "papermill": {
     "duration": 0.338164,
     "end_time": "2022-03-20T16:30:08.309627",
     "exception": false,
     "start_time": "2022-03-20T16:30:07.971463",
     "status": "completed"
    },
    "tags": []
   },
   "outputs": [
    {
     "name": "stdout",
     "output_type": "stream",
     "text": [
      "Confusion matrix is \n",
      " [[884   6]\n",
      " [159  11]]\n"
     ]
    },
    {
     "data": {
      "text/plain": [
       "Text(42.0, 0.5, 'predicted label')"
      ]
     },
     "execution_count": 37,
     "metadata": {},
     "output_type": "execute_result"
    },
    {
     "data": {
      "image/png": "[encoded data removed]",
      "text/plain": [
       "<Figure size 504x504 with 2 Axes>"
      ]
     },
     "metadata": {
      "needs_background": "light"
     },
     "output_type": "display_data"
    }
   ],
   "source": [
    "## confusion matrix\n",
    "conf_mat=confusion_matrix(y_test,y_pred)\n",
    "print(\"Confusion matrix is \\n\",conf_mat)\n",
    "\n",
    "## plotting confusion matrix\n",
    "plt.figure(figsize=(7,7))\n",
    "plt.title(\"Logistic Regression CM\")\n",
    "sns.heatmap(conf_mat, square=True,cmap=\"BuPu\",annot=True,fmt='d')\n",
    "plt.xlabel('true label')\n",
    "plt.ylabel('predicted label')"
   ]
  },
  {
   "cell_type": "code",
   "execution_count": 38,
   "id": "e9cdd3f9",
   "metadata": {
    "execution": {
     "iopub.execute_input": "2022-03-20T16:30:08.541501Z",
     "iopub.status.busy": "2022-03-20T16:30:08.540787Z",
     "iopub.status.idle": "2022-03-20T16:30:08.546500Z",
     "shell.execute_reply": "2022-03-20T16:30:08.547036Z",
     "shell.execute_reply.started": "2022-03-20T15:07:02.97138Z"
    },
    "papermill": {
     "duration": 0.124779,
     "end_time": "2022-03-20T16:30:08.547211",
     "exception": false,
     "start_time": "2022-03-20T16:30:08.422432",
     "status": "completed"
    },
    "tags": []
   },
   "outputs": [
    {
     "name": "stdout",
     "output_type": "stream",
     "text": [
      "accuracy score :  0.8443396226415094\n",
      "accuracy: 84 %\n"
     ]
    }
   ],
   "source": [
    "## accuracy score\n",
    "print(\"accuracy score : \",accuracy_score(y_test,y_pred))\n",
    "\n",
    "## percentage accurate\n",
    "print(\"accuracy:\", round(100*accuracy_score(y_test,y_pred)),\"%\")"
   ]
  },
  {
   "cell_type": "markdown",
   "id": "6a6a4a65",
   "metadata": {
    "papermill": {
     "duration": 0.113307,
     "end_time": "2022-03-20T16:30:08.777090",
     "exception": false,
     "start_time": "2022-03-20T16:30:08.663783",
     "status": "completed"
    },
    "tags": []
   },
   "source": [
    "**PREDICT PROBA**"
   ]
  },
  {
   "cell_type": "code",
   "execution_count": 39,
   "id": "126c2a35",
   "metadata": {
    "execution": {
     "iopub.execute_input": "2022-03-20T16:30:09.009313Z",
     "iopub.status.busy": "2022-03-20T16:30:09.008657Z",
     "iopub.status.idle": "2022-03-20T16:30:09.015480Z",
     "shell.execute_reply": "2022-03-20T16:30:09.016292Z",
     "shell.execute_reply.started": "2022-03-20T15:07:02.981449Z"
    },
    "papermill": {
     "duration": 0.12577,
     "end_time": "2022-03-20T16:30:09.016581",
     "exception": false,
     "start_time": "2022-03-20T16:30:08.890811",
     "status": "completed"
    },
    "tags": []
   },
   "outputs": [],
   "source": [
    "## Prediction using predict_proba \n",
    "\n",
    "y_pred_proba = model.predict_proba(X_test)[:,1]"
   ]
  },
  {
   "cell_type": "code",
   "execution_count": 40,
   "id": "2bff63c3",
   "metadata": {
    "execution": {
     "iopub.execute_input": "2022-03-20T16:30:09.308490Z",
     "iopub.status.busy": "2022-03-20T16:30:09.307395Z",
     "iopub.status.idle": "2022-03-20T16:30:09.496646Z",
     "shell.execute_reply": "2022-03-20T16:30:09.496129Z",
     "shell.execute_reply.started": "2022-03-20T15:07:03.007472Z"
    },
    "papermill": {
     "duration": 0.312193,
     "end_time": "2022-03-20T16:30:09.496792",
     "exception": false,
     "start_time": "2022-03-20T16:30:09.184599",
     "status": "completed"
    },
    "tags": []
   },
   "outputs": [
    {
     "data": {
      "text/plain": [
       "<matplotlib.legend.Legend at 0x7f6c40992410>"
      ]
     },
     "execution_count": 40,
     "metadata": {},
     "output_type": "execute_result"
    },
    {
     "data": {
      "image/png": "[encoded data removed]",
      "text/plain": [
       "<Figure size 432x288 with 1 Axes>"
      ]
     },
     "metadata": {
      "needs_background": "light"
     },
     "output_type": "display_data"
    }
   ],
   "source": [
    "fpr, tpr, _ = roc_curve(y_test, y_pred_proba)\n",
    "roc_auc=auc(fpr,tpr)\n",
    "#Now Draw ROC using fpr , tpr\n",
    "plt.plot([0, 1], [0, 1], 'k--',label='Random')\n",
    "plt.plot(fpr,tpr,label='ROC curve (area = %0.2f)' %roc_auc)\n",
    "plt.xlabel('False positive rate')\n",
    "plt.ylabel('True positive rate')\n",
    "plt.title('Logistic Regression ROC curve')\n",
    "plt.legend(loc='best')"
   ]
  },
  {
   "cell_type": "code",
   "execution_count": 41,
   "id": "7cf6ec96",
   "metadata": {
    "execution": {
     "iopub.execute_input": "2022-03-20T16:30:09.754653Z",
     "iopub.status.busy": "2022-03-20T16:30:09.753620Z",
     "iopub.status.idle": "2022-03-20T16:30:09.855315Z",
     "shell.execute_reply": "2022-03-20T16:30:09.855806Z",
     "shell.execute_reply.started": "2022-03-20T15:07:03.285708Z"
    },
    "papermill": {
     "duration": 0.243813,
     "end_time": "2022-03-20T16:30:09.855987",
     "exception": false,
     "start_time": "2022-03-20T16:30:09.612174",
     "status": "completed"
    },
    "tags": []
   },
   "outputs": [
    {
     "data": {
      "text/plain": [
       "<AxesSubplot:title={'center':'Distribution of Heart Disease'}, ylabel='TenYearCHD'>"
      ]
     },
     "execution_count": 41,
     "metadata": {},
     "output_type": "execute_result"
    },
    {
     "data": {
      "image/png": "[encoded data removed]",
      "text/plain": [
       "<Figure size 720x720 with 1 Axes>"
      ]
     },
     "metadata": {},
     "output_type": "display_data"
    }
   ],
   "source": [
    "## Distribution of heart diseases\n",
    "plt.figure(figsize=(10,10))\n",
    "plt.title(\"Distribution of Heart Disease\")\n",
    "y_test.value_counts().plot(kind=\"pie\",autopct='%1.2f%%')"
   ]
  },
  {
   "cell_type": "markdown",
   "id": "c27383e2",
   "metadata": {
    "papermill": {
     "duration": 0.120162,
     "end_time": "2022-03-20T16:30:10.095758",
     "exception": false,
     "start_time": "2022-03-20T16:30:09.975596",
     "status": "completed"
    },
    "tags": []
   },
   "source": [
    "# **OVERSAMPLING USING - SMOTE**\n",
    "\n",
    "> SMOTE (synthetic minority oversampling technique) is one of the most commonly used oversampling methods to solve the imbalance problem.\n",
    "It aims to balance class distribution by randomly increasing minority class examples by replicating them."
   ]
  },
  {
   "cell_type": "code",
   "execution_count": 42,
   "id": "ed1fa952",
   "metadata": {
    "execution": {
     "iopub.execute_input": "2022-03-20T16:30:10.333518Z",
     "iopub.status.busy": "2022-03-20T16:30:10.332509Z",
     "iopub.status.idle": "2022-03-20T16:30:10.455062Z",
     "shell.execute_reply": "2022-03-20T16:30:10.455604Z",
     "shell.execute_reply.started": "2022-03-20T15:07:03.474157Z"
    },
    "papermill": {
     "duration": 0.243126,
     "end_time": "2022-03-20T16:30:10.455786",
     "exception": false,
     "start_time": "2022-03-20T16:30:10.212660",
     "status": "completed"
    },
    "tags": []
   },
   "outputs": [
    {
     "data": {
      "text/plain": [
       "<AxesSubplot:title={'center':'Distribution of Heart Disease'}, ylabel='TenYearCHD'>"
      ]
     },
     "execution_count": 42,
     "metadata": {},
     "output_type": "execute_result"
    },
    {
     "data": {
      "image/png": "[encoded data removed]",
      "text/plain": [
       "<Figure size 720x720 with 1 Axes>"
      ]
     },
     "metadata": {},
     "output_type": "display_data"
    }
   ],
   "source": [
    "## Distribution of heart diseases\n",
    "plt.figure(figsize=(10,10))\n",
    "plt.title(\"Distribution of Heart Disease\")\n",
    "y_train.value_counts().plot(kind=\"pie\",autopct='%1.2f%%')"
   ]
  },
  {
   "cell_type": "markdown",
   "id": "f5090064",
   "metadata": {
    "papermill": {
     "duration": 0.12297,
     "end_time": "2022-03-20T16:30:10.700291",
     "exception": false,
     "start_time": "2022-03-20T16:30:10.577321",
     "status": "completed"
    },
    "tags": []
   },
   "source": [
    "The plot depicts that y_train is not perfectly distributed. SMOTE helps to resample the perfectly sampled data."
   ]
  },
  {
   "cell_type": "code",
   "execution_count": 43,
   "id": "a35d5692",
   "metadata": {
    "execution": {
     "iopub.execute_input": "2022-03-20T16:30:10.946050Z",
     "iopub.status.busy": "2022-03-20T16:30:10.945046Z",
     "iopub.status.idle": "2022-03-20T16:30:11.229674Z",
     "shell.execute_reply": "2022-03-20T16:30:11.229095Z",
     "shell.execute_reply.started": "2022-03-20T15:07:03.665366Z"
    },
    "papermill": {
     "duration": 0.407566,
     "end_time": "2022-03-20T16:30:11.229829",
     "exception": false,
     "start_time": "2022-03-20T16:30:10.822263",
     "status": "completed"
    },
    "tags": []
   },
   "outputs": [],
   "source": [
    "## resampling for perfectly balanced data\n",
    "from imblearn.over_sampling import SMOTE\n",
    "smote=SMOTE()\n",
    "smote_X,smote_y=smote.fit_resample(X_train,y_train)\n"
   ]
  },
  {
   "cell_type": "code",
   "execution_count": 44,
   "id": "ae04f110",
   "metadata": {
    "execution": {
     "iopub.execute_input": "2022-03-20T16:30:11.498539Z",
     "iopub.status.busy": "2022-03-20T16:30:11.496794Z",
     "iopub.status.idle": "2022-03-20T16:30:11.588282Z",
     "shell.execute_reply": "2022-03-20T16:30:11.588803Z",
     "shell.execute_reply.started": "2022-03-20T15:07:03.783886Z"
    },
    "papermill": {
     "duration": 0.240411,
     "end_time": "2022-03-20T16:30:11.588970",
     "exception": false,
     "start_time": "2022-03-20T16:30:11.348559",
     "status": "completed"
    },
    "tags": []
   },
   "outputs": [
    {
     "data": {
      "text/plain": [
       "<AxesSubplot:title={'center':'Distribution of Heart Disease'}, ylabel='TenYearCHD'>"
      ]
     },
     "execution_count": 44,
     "metadata": {},
     "output_type": "execute_result"
    },
    {
     "data": {
      "image/png": "[encoded data removed]",
      "text/plain": [
       "<Figure size 720x720 with 1 Axes>"
      ]
     },
     "metadata": {},
     "output_type": "display_data"
    }
   ],
   "source": [
    "## Distribution of heart diseases\n",
    "plt.figure(figsize=(10,10))\n",
    "plt.title(\"Distribution of Heart Disease\")\n",
    "smote_y.value_counts().plot(kind=\"pie\",autopct='%1.2f%%')"
   ]
  },
  {
   "cell_type": "markdown",
   "id": "34ecf575",
   "metadata": {
    "papermill": {
     "duration": 0.119855,
     "end_time": "2022-03-20T16:30:11.833893",
     "exception": false,
     "start_time": "2022-03-20T16:30:11.714038",
     "status": "completed"
    },
    "tags": []
   },
   "source": [
    "The data is perfectly balanced. Now we can predict the data."
   ]
  },
  {
   "cell_type": "code",
   "execution_count": 45,
   "id": "364c5008",
   "metadata": {
    "execution": {
     "iopub.execute_input": "2022-03-20T16:30:12.082906Z",
     "iopub.status.busy": "2022-03-20T16:30:12.080018Z",
     "iopub.status.idle": "2022-03-20T16:30:12.112561Z",
     "shell.execute_reply": "2022-03-20T16:30:12.113368Z",
     "shell.execute_reply.started": "2022-03-20T15:07:03.966436Z"
    },
    "papermill": {
     "duration": 0.160391,
     "end_time": "2022-03-20T16:30:12.113670",
     "exception": false,
     "start_time": "2022-03-20T16:30:11.953279",
     "status": "completed"
    },
    "tags": []
   },
   "outputs": [
    {
     "data": {
      "text/plain": [
       "LogisticRegression()"
      ]
     },
     "execution_count": 45,
     "metadata": {},
     "output_type": "execute_result"
    }
   ],
   "source": [
    "## Logistic Regression\n",
    "model_smote=LogisticRegression()\n",
    "model_smote.fit(smote_X,smote_y)"
   ]
  },
  {
   "cell_type": "code",
   "execution_count": 46,
   "id": "fc8e2784",
   "metadata": {
    "execution": {
     "iopub.execute_input": "2022-03-20T16:30:12.422477Z",
     "iopub.status.busy": "2022-03-20T16:30:12.421388Z",
     "iopub.status.idle": "2022-03-20T16:30:12.426845Z",
     "shell.execute_reply": "2022-03-20T16:30:12.427681Z",
     "shell.execute_reply.started": "2022-03-20T15:07:04.029422Z"
    },
    "papermill": {
     "duration": 0.133085,
     "end_time": "2022-03-20T16:30:12.427944",
     "exception": false,
     "start_time": "2022-03-20T16:30:12.294859",
     "status": "completed"
    },
    "tags": []
   },
   "outputs": [],
   "source": [
    "y_pred_smote=model_smote.predict(X_test)"
   ]
  },
  {
   "cell_type": "code",
   "execution_count": 47,
   "id": "e322bd0d",
   "metadata": {
    "execution": {
     "iopub.execute_input": "2022-03-20T16:30:12.752520Z",
     "iopub.status.busy": "2022-03-20T16:30:12.751168Z",
     "iopub.status.idle": "2022-03-20T16:30:12.760230Z",
     "shell.execute_reply": "2022-03-20T16:30:12.760743Z",
     "shell.execute_reply.started": "2022-03-20T15:07:04.053548Z"
    },
    "papermill": {
     "duration": 0.158854,
     "end_time": "2022-03-20T16:30:12.760911",
     "exception": false,
     "start_time": "2022-03-20T16:30:12.602057",
     "status": "completed"
    },
    "tags": []
   },
   "outputs": [
    {
     "name": "stdout",
     "output_type": "stream",
     "text": [
      "              precision    recall  f1-score   support\n",
      "\n",
      "           0       0.92      0.69      0.79       890\n",
      "           1       0.29      0.68      0.41       170\n",
      "\n",
      "    accuracy                           0.68      1060\n",
      "   macro avg       0.60      0.68      0.60      1060\n",
      "weighted avg       0.82      0.68      0.72      1060\n",
      "\n"
     ]
    }
   ],
   "source": [
    "## classification report\n",
    "print(classification_report(y_test,y_pred_smote))"
   ]
  },
  {
   "cell_type": "code",
   "execution_count": 48,
   "id": "aba9ef3d",
   "metadata": {
    "execution": {
     "iopub.execute_input": "2022-03-20T16:30:13.012277Z",
     "iopub.status.busy": "2022-03-20T16:30:13.011589Z",
     "iopub.status.idle": "2022-03-20T16:30:13.261694Z",
     "shell.execute_reply": "2022-03-20T16:30:13.262265Z",
     "shell.execute_reply.started": "2022-03-20T15:07:04.096488Z"
    },
    "papermill": {
     "duration": 0.380658,
     "end_time": "2022-03-20T16:30:13.262457",
     "exception": false,
     "start_time": "2022-03-20T16:30:12.881799",
     "status": "completed"
    },
    "tags": []
   },
   "outputs": [
    {
     "name": "stdout",
     "output_type": "stream",
     "text": [
      "Confusion matrix is \n",
      " [[611 279]\n",
      " [ 55 115]]\n"
     ]
    },
    {
     "data": {
      "text/plain": [
       "Text(42.0, 0.5, 'Actual value')"
      ]
     },
     "execution_count": 48,
     "metadata": {},
     "output_type": "execute_result"
    },
    {
     "data": {
      "image/png": "[encoded data removed]",
      "text/plain": [
       "<Figure size 504x504 with 2 Axes>"
      ]
     },
     "metadata": {
      "needs_background": "light"
     },
     "output_type": "display_data"
    }
   ],
   "source": [
    "## confusion matrix\n",
    "conf_mat_smote=confusion_matrix(y_test,y_pred_smote)\n",
    "print(\"Confusion matrix is \\n\",conf_mat_smote)\n",
    "\n",
    "## plotting confusion matrix\n",
    "\n",
    "plt.figure(figsize=(7,7))\n",
    "plt.title(\"Logistic Regression SMOTE CM\")\n",
    "sns.heatmap(conf_mat_smote, square=True,cmap=\"Blues\",annot=True,fmt='d')\n",
    "plt.xlabel(\"Predicted Value\")\n",
    "plt.ylabel(\"Actual value\")"
   ]
  },
  {
   "cell_type": "code",
   "execution_count": 49,
   "id": "7cb55e2a",
   "metadata": {
    "execution": {
     "iopub.execute_input": "2022-03-20T16:30:13.512767Z",
     "iopub.status.busy": "2022-03-20T16:30:13.512077Z",
     "iopub.status.idle": "2022-03-20T16:30:13.518904Z",
     "shell.execute_reply": "2022-03-20T16:30:13.519395Z",
     "shell.execute_reply.started": "2022-03-20T15:07:04.361755Z"
    },
    "papermill": {
     "duration": 0.133932,
     "end_time": "2022-03-20T16:30:13.519577",
     "exception": false,
     "start_time": "2022-03-20T16:30:13.385645",
     "status": "completed"
    },
    "tags": []
   },
   "outputs": [
    {
     "name": "stdout",
     "output_type": "stream",
     "text": [
      "accuracy score :  0.6849056603773584\n",
      "accuracy: 68 %\n"
     ]
    }
   ],
   "source": [
    "## accuracy score\n",
    "print(\"accuracy score : \",accuracy_score(y_test,y_pred_smote))\n",
    "\n",
    "## percentage accurate\n",
    "print(\"accuracy:\", round(100*accuracy_score(y_test,y_pred_smote)),\"%\")"
   ]
  },
  {
   "cell_type": "code",
   "execution_count": 50,
   "id": "16e3c19b",
   "metadata": {
    "execution": {
     "iopub.execute_input": "2022-03-20T16:30:13.778763Z",
     "iopub.status.busy": "2022-03-20T16:30:13.777673Z",
     "iopub.status.idle": "2022-03-20T16:30:13.783535Z",
     "shell.execute_reply": "2022-03-20T16:30:13.784490Z",
     "shell.execute_reply.started": "2022-03-20T15:07:04.374551Z"
    },
    "papermill": {
     "duration": 0.14112,
     "end_time": "2022-03-20T16:30:13.784770",
     "exception": false,
     "start_time": "2022-03-20T16:30:13.643650",
     "status": "completed"
    },
    "tags": []
   },
   "outputs": [],
   "source": [
    "\n",
    "## Prediction using predict_proba \n",
    "\n",
    "y_pred_proba_smote = model_smote.predict_proba(X_test)[:,1]"
   ]
  },
  {
   "cell_type": "code",
   "execution_count": 51,
   "id": "e2f30eb9",
   "metadata": {
    "execution": {
     "iopub.execute_input": "2022-03-20T16:30:14.093503Z",
     "iopub.status.busy": "2022-03-20T16:30:14.092758Z",
     "iopub.status.idle": "2022-03-20T16:30:14.332472Z",
     "shell.execute_reply": "2022-03-20T16:30:14.331914Z",
     "shell.execute_reply.started": "2022-03-20T15:07:04.392808Z"
    },
    "papermill": {
     "duration": 0.370971,
     "end_time": "2022-03-20T16:30:14.332628",
     "exception": false,
     "start_time": "2022-03-20T16:30:13.961657",
     "status": "completed"
    },
    "tags": []
   },
   "outputs": [
    {
     "data": {
      "text/plain": [
       "<matplotlib.legend.Legend at 0x7f6c3bde5b90>"
      ]
     },
     "execution_count": 51,
     "metadata": {},
     "output_type": "execute_result"
    },
    {
     "data": {
      "image/png": "[encoded data removed]",
      "text/plain": [
       "<Figure size 432x288 with 1 Axes>"
      ]
     },
     "metadata": {
      "needs_background": "light"
     },
     "output_type": "display_data"
    }
   ],
   "source": [
    "fpr, tpr, _ = roc_curve(y_test, y_pred_proba_smote)\n",
    "roc_auc=auc(fpr,tpr)\n",
    "#Now Draw ROC using fpr , tpr\n",
    "plt.plot([0, 1], [0, 1], 'k--',label='Random')\n",
    "plt.plot(fpr,tpr,label='ROC curve (area = %0.2f)' %roc_auc)\n",
    "plt.xlabel('False positive rate')\n",
    "plt.ylabel('True positive rate')\n",
    "plt.title('Logistic Regression ROC curve')\n",
    "plt.legend(loc='best')"
   ]
  },
  {
   "cell_type": "markdown",
   "id": "fdcd1087",
   "metadata": {
    "papermill": {
     "duration": 0.123357,
     "end_time": "2022-03-20T16:30:14.580673",
     "exception": false,
     "start_time": "2022-03-20T16:30:14.457316",
     "status": "completed"
    },
    "tags": []
   },
   "source": [
    "Accuracy rate without SMOTE IS 84%\n",
    "Accuracy rate with SMOTE is 68%"
   ]
  },
  {
   "cell_type": "markdown",
   "id": "49ba51ea",
   "metadata": {
    "papermill": {
     "duration": 0.126113,
     "end_time": "2022-03-20T16:30:14.832212",
     "exception": false,
     "start_time": "2022-03-20T16:30:14.706099",
     "status": "completed"
    },
    "tags": []
   },
   "source": [
    "# ****RECRUSIVE ELIMATION FEATURE****\n",
    "\n",
    "> It is based on the idea to repeatedly construct a model and choose either the best or worst performing feature, setting the feature aside and then repeating the process with the rest of the features. This process is applied until all features in the dataset are exhausted. The goal of RFE is to select features by recursively considering smaller and smaller sets of features."
   ]
  },
  {
   "cell_type": "code",
   "execution_count": 52,
   "id": "3458f82c",
   "metadata": {
    "execution": {
     "iopub.execute_input": "2022-03-20T16:30:15.094002Z",
     "iopub.status.busy": "2022-03-20T16:30:15.093363Z",
     "iopub.status.idle": "2022-03-20T16:30:15.250429Z",
     "shell.execute_reply": "2022-03-20T16:30:15.251313Z",
     "shell.execute_reply.started": "2022-03-20T15:07:04.68875Z"
    },
    "papermill": {
     "duration": 0.293057,
     "end_time": "2022-03-20T16:30:15.251597",
     "exception": false,
     "start_time": "2022-03-20T16:30:14.958540",
     "status": "completed"
    },
    "tags": []
   },
   "outputs": [
    {
     "name": "stdout",
     "output_type": "stream",
     "text": [
      "[ True  True False False  True False False  True False False  True  True\n",
      " False False  True]\n",
      "[1 1 9 6 1 8 3 1 5 2 1 1 4 7 1]\n"
     ]
    },
    {
     "data": {
      "text/plain": [
       "Index(['male', 'age', 'cigsPerDay', 'prevalentHyp', 'sysBP', 'diaBP',\n",
       "       'glucose'],\n",
       "      dtype='object')"
      ]
     },
     "execution_count": 52,
     "metadata": {},
     "output_type": "execute_result"
    }
   ],
   "source": [
    "from sklearn.feature_selection import RFE\n",
    "\n",
    "#Select best feature \n",
    "rfe = RFE(model, n_features_to_select= None)\n",
    "rfe = rfe.fit(X_train, y_train)\n",
    "\n",
    "#Summarize the selection of the attributes\n",
    "print(rfe.support_)\n",
    "print(rfe.ranking_)\n",
    "X.columns[rfe.support_]"
   ]
  },
  {
   "cell_type": "code",
   "execution_count": 53,
   "id": "6589e56e",
   "metadata": {
    "execution": {
     "iopub.execute_input": "2022-03-20T16:30:15.559694Z",
     "iopub.status.busy": "2022-03-20T16:30:15.556813Z",
     "iopub.status.idle": "2022-03-20T16:30:15.563012Z",
     "shell.execute_reply": "2022-03-20T16:30:15.562510Z",
     "shell.execute_reply.started": "2022-03-20T15:07:04.861232Z"
    },
    "papermill": {
     "duration": 0.13522,
     "end_time": "2022-03-20T16:30:15.563165",
     "exception": false,
     "start_time": "2022-03-20T16:30:15.427945",
     "status": "completed"
    },
    "tags": []
   },
   "outputs": [],
   "source": [
    "cols=['male', 'age', 'cigsPerDay', 'prevalentHyp', 'sysBP', 'diaBP','glucose']\n",
    "X=X_train[cols]"
   ]
  },
  {
   "cell_type": "code",
   "execution_count": 54,
   "id": "5f0112d2",
   "metadata": {
    "execution": {
     "iopub.execute_input": "2022-03-20T16:30:15.817607Z",
     "iopub.status.busy": "2022-03-20T16:30:15.816844Z",
     "iopub.status.idle": "2022-03-20T16:30:16.660855Z",
     "shell.execute_reply": "2022-03-20T16:30:16.662501Z",
     "shell.execute_reply.started": "2022-03-20T15:07:04.876002Z"
    },
    "papermill": {
     "duration": 0.974695,
     "end_time": "2022-03-20T16:30:16.662999",
     "exception": false,
     "start_time": "2022-03-20T16:30:15.688304",
     "status": "completed"
    },
    "tags": []
   },
   "outputs": [
    {
     "name": "stdout",
     "output_type": "stream",
     "text": [
      "Optimization terminated successfully.\n",
      "         Current function value: 0.668087\n",
      "         Iterations 5\n",
      "                         Results: Logit\n",
      "================================================================\n",
      "Model:              Logit            Pseudo R-squared: -0.586   \n",
      "Dependent Variable: y                AIC:              4260.3594\n",
      "Date:               2022-03-20 16:30 BIC:              4302.8075\n",
      "No. Observations:   3178             Log-Likelihood:   -2123.2  \n",
      "Df Model:           6                LL-Null:          -1338.7  \n",
      "Df Residuals:       3171             LLR p-value:      1.0000   \n",
      "Converged:          1.0000           Scale:            1.0000   \n",
      "No. Iterations:     5.0000                                      \n",
      "-------------------------------------------------------------------\n",
      "       Coef.     Std.Err.       z       P>|z|      [0.025    0.975]\n",
      "-------------------------------------------------------------------\n",
      "x1     0.0949      0.0388     2.4430    0.0146     0.0188    0.1710\n",
      "x2     0.2401      0.0411     5.8394    0.0000     0.1595    0.3207\n",
      "x3     0.1427      0.0394     3.6196    0.0003     0.0654    0.2200\n",
      "x4     0.0801      0.0517     1.5506    0.1210    -0.0211    0.1813\n",
      "x5     0.2473      0.0711     3.4768    0.0005     0.1079    0.3867\n",
      "x6    -0.0945      0.0611    -1.5462    0.1221    -0.2144    0.0253\n",
      "x7     0.1536      0.0445     3.4480    0.0006     0.0663    0.2409\n",
      "================================================================\n",
      "\n"
     ]
    }
   ],
   "source": [
    "import statsmodels.api as sm\n",
    "logit_model=sm.Logit(np.asarray(y_train),np.asarray(X))\n",
    "result=logit_model.fit()\n",
    "print(result.summary2())"
   ]
  },
  {
   "cell_type": "markdown",
   "id": "33baf8a3",
   "metadata": {
    "papermill": {
     "duration": 0.125433,
     "end_time": "2022-03-20T16:30:16.917911",
     "exception": false,
     "start_time": "2022-03-20T16:30:16.792478",
     "status": "completed"
    },
    "tags": []
   },
   "source": [
    "The p value of the most variables is less than 0.05 except two variables, we will remove them."
   ]
  },
  {
   "cell_type": "code",
   "execution_count": 55,
   "id": "8d3c6236",
   "metadata": {
    "execution": {
     "iopub.execute_input": "2022-03-20T16:30:17.178659Z",
     "iopub.status.busy": "2022-03-20T16:30:17.177885Z",
     "iopub.status.idle": "2022-03-20T16:30:17.180620Z",
     "shell.execute_reply": "2022-03-20T16:30:17.180118Z",
     "shell.execute_reply.started": "2022-03-20T15:07:05.246222Z"
    },
    "papermill": {
     "duration": 0.135471,
     "end_time": "2022-03-20T16:30:17.180772",
     "exception": false,
     "start_time": "2022-03-20T16:30:17.045301",
     "status": "completed"
    },
    "tags": []
   },
   "outputs": [],
   "source": [
    "cols=['male', 'age', 'cigsPerDay', 'sysBP','glucose']\n",
    "X_new=X[cols]"
   ]
  },
  {
   "cell_type": "code",
   "execution_count": 56,
   "id": "9c6c94b5",
   "metadata": {
    "execution": {
     "iopub.execute_input": "2022-03-20T16:30:17.435201Z",
     "iopub.status.busy": "2022-03-20T16:30:17.434565Z",
     "iopub.status.idle": "2022-03-20T16:30:17.505322Z",
     "shell.execute_reply": "2022-03-20T16:30:17.506313Z",
     "shell.execute_reply.started": "2022-03-20T15:07:05.263505Z"
    },
    "papermill": {
     "duration": 0.200051,
     "end_time": "2022-03-20T16:30:17.506621",
     "exception": false,
     "start_time": "2022-03-20T16:30:17.306570",
     "status": "completed"
    },
    "tags": []
   },
   "outputs": [
    {
     "name": "stdout",
     "output_type": "stream",
     "text": [
      "Optimization terminated successfully.\n",
      "         Current function value: 0.668739\n",
      "         Iterations 5\n",
      "                         Results: Logit\n",
      "================================================================\n",
      "Model:              Logit            Pseudo R-squared: -0.588   \n",
      "Dependent Variable: y                AIC:              4260.5064\n",
      "Date:               2022-03-20 16:30 BIC:              4290.8265\n",
      "No. Observations:   3178             Log-Likelihood:   -2125.3  \n",
      "Df Model:           4                LL-Null:          -1338.7  \n",
      "Df Residuals:       3173             LLR p-value:      1.0000   \n",
      "Converged:          1.0000           Scale:            1.0000   \n",
      "No. Iterations:     5.0000                                      \n",
      "-------------------------------------------------------------------\n",
      "         Coef.     Std.Err.      z       P>|z|     [0.025    0.975]\n",
      "-------------------------------------------------------------------\n",
      "x1       0.0878      0.0383    2.2883    0.0221    0.0126    0.1629\n",
      "x2       0.2541      0.0404    6.2925    0.0000    0.1749    0.3332\n",
      "x3       0.1459      0.0393    3.7087    0.0002    0.0688    0.2230\n",
      "x4       0.2241      0.0407    5.5106    0.0000    0.1444    0.3039\n",
      "x5       0.1568      0.0445    3.5256    0.0004    0.0696    0.2440\n",
      "================================================================\n",
      "\n"
     ]
    }
   ],
   "source": [
    "\n",
    "logit_model=sm.Logit(np.asarray(y_train),np.asarray(X_new))\n",
    "result=logit_model.fit()\n",
    "print(result.summary2())"
   ]
  },
  {
   "cell_type": "markdown",
   "id": "e267b4e9",
   "metadata": {
    "papermill": {
     "duration": 0.125536,
     "end_time": "2022-03-20T16:30:17.789287",
     "exception": false,
     "start_time": "2022-03-20T16:30:17.663751",
     "status": "completed"
    },
    "tags": []
   },
   "source": [
    "All the p values are less than 0.05.\n",
    "All attributes selected after the elimination process show P-values lower than 5% and thereby suggesting significant role in the Heart disease prediction.\n",
    "\n",
    "The variables are:-\n",
    "1. male \n",
    "2. age\n",
    "3. cigsPerDay\n",
    "4. sysBP\n",
    "5. glucose\n"
   ]
  },
  {
   "cell_type": "code",
   "execution_count": 57,
   "id": "320dae50",
   "metadata": {
    "execution": {
     "iopub.execute_input": "2022-03-20T16:30:18.051831Z",
     "iopub.status.busy": "2022-03-20T16:30:18.051114Z",
     "iopub.status.idle": "2022-03-20T16:30:18.058484Z",
     "shell.execute_reply": "2022-03-20T16:30:18.057941Z",
     "shell.execute_reply.started": "2022-03-20T15:21:19.725328Z"
    },
    "papermill": {
     "duration": 0.143414,
     "end_time": "2022-03-20T16:30:18.058634",
     "exception": false,
     "start_time": "2022-03-20T16:30:17.915220",
     "status": "completed"
    },
    "tags": []
   },
   "outputs": [
    {
     "data": {
      "text/plain": [
       "4238"
      ]
     },
     "execution_count": 57,
     "metadata": {},
     "output_type": "execute_result"
    }
   ],
   "source": [
    "cols=['male', 'age', 'cigsPerDay', 'sysBP','glucose','TenYearCHD']\n",
    "heart=heart_df[cols]\n",
    "## Splitting data '\n",
    "X_n= heart.drop(\"TenYearCHD\",axis=1)\n",
    "y_n=heart[\"TenYearCHD\"]\n",
    "X_n.shape\n",
    "y_n.shape[0]"
   ]
  },
  {
   "cell_type": "code",
   "execution_count": 58,
   "id": "c2381ab4",
   "metadata": {
    "execution": {
     "iopub.execute_input": "2022-03-20T16:30:18.316197Z",
     "iopub.status.busy": "2022-03-20T16:30:18.315551Z",
     "iopub.status.idle": "2022-03-20T16:30:18.321735Z",
     "shell.execute_reply": "2022-03-20T16:30:18.322311Z",
     "shell.execute_reply.started": "2022-03-20T15:21:22.834988Z"
    },
    "papermill": {
     "duration": 0.136569,
     "end_time": "2022-03-20T16:30:18.322485",
     "exception": false,
     "start_time": "2022-03-20T16:30:18.185916",
     "status": "completed"
    },
    "tags": []
   },
   "outputs": [],
   "source": [
    "## Splitting data into training and test sets\n",
    "X_n_train, X_n_test, y_train_n, y_test_n = train_test_split(X_n, y_n, test_size = 0.25, random_state = 0)"
   ]
  },
  {
   "cell_type": "code",
   "execution_count": 59,
   "id": "0cde902e",
   "metadata": {
    "execution": {
     "iopub.execute_input": "2022-03-20T16:30:18.577775Z",
     "iopub.status.busy": "2022-03-20T16:30:18.577125Z",
     "iopub.status.idle": "2022-03-20T16:30:18.587713Z",
     "shell.execute_reply": "2022-03-20T16:30:18.588261Z",
     "shell.execute_reply.started": "2022-03-20T15:21:24.930439Z"
    },
    "papermill": {
     "duration": 0.139616,
     "end_time": "2022-03-20T16:30:18.588435",
     "exception": false,
     "start_time": "2022-03-20T16:30:18.448819",
     "status": "completed"
    },
    "tags": []
   },
   "outputs": [],
   "source": [
    "sc= StandardScaler()\n",
    "X_n_train = sc.fit_transform(X_n_train)\n",
    "X_n_train=pd.DataFrame(X_n_train,columns=X_n.columns)\n",
    "X_n_test=sc.transform(X_n_test)\n",
    "X_n_test=pd.DataFrame(X_n_test,columns=X_n.columns)"
   ]
  },
  {
   "cell_type": "code",
   "execution_count": 60,
   "id": "5e4ac374",
   "metadata": {
    "execution": {
     "iopub.execute_input": "2022-03-20T16:30:18.849034Z",
     "iopub.status.busy": "2022-03-20T16:30:18.848399Z",
     "iopub.status.idle": "2022-03-20T16:30:18.872190Z",
     "shell.execute_reply": "2022-03-20T16:30:18.873276Z",
     "shell.execute_reply.started": "2022-03-20T15:32:48.745088Z"
    },
    "papermill": {
     "duration": 0.155426,
     "end_time": "2022-03-20T16:30:18.873558",
     "exception": false,
     "start_time": "2022-03-20T16:30:18.718132",
     "status": "completed"
    },
    "tags": []
   },
   "outputs": [
    {
     "data": {
      "text/plain": [
       "LogisticRegression()"
      ]
     },
     "execution_count": 60,
     "metadata": {},
     "output_type": "execute_result"
    }
   ],
   "source": [
    "## Training the model using Logistic Regression\n",
    "model_n=LogisticRegression()\n",
    "model_n.fit(X_n_train,y_train_n)"
   ]
  },
  {
   "cell_type": "code",
   "execution_count": 61,
   "id": "a723ac19",
   "metadata": {
    "execution": {
     "iopub.execute_input": "2022-03-20T16:30:19.190386Z",
     "iopub.status.busy": "2022-03-20T16:30:19.189680Z",
     "iopub.status.idle": "2022-03-20T16:30:19.456864Z",
     "shell.execute_reply": "2022-03-20T16:30:19.457548Z",
     "shell.execute_reply.started": "2022-03-20T15:32:50.968975Z"
    },
    "papermill": {
     "duration": 0.404024,
     "end_time": "2022-03-20T16:30:19.457730",
     "exception": false,
     "start_time": "2022-03-20T16:30:19.053706",
     "status": "completed"
    },
    "tags": []
   },
   "outputs": [
    {
     "name": "stdout",
     "output_type": "stream",
     "text": [
      "              precision    recall  f1-score   support\n",
      "\n",
      "           0       0.85      0.99      0.91       890\n",
      "           1       0.47      0.05      0.10       170\n",
      "\n",
      "    accuracy                           0.84      1060\n",
      "   macro avg       0.66      0.52      0.50      1060\n",
      "weighted avg       0.79      0.84      0.78      1060\n",
      "\n",
      "accuracy score :  0.8386792452830188\n",
      "accuracy: 84 %\n",
      "Confusion matrix is \n",
      " [[880  10]\n",
      " [161   9]]\n"
     ]
    },
    {
     "data": {
      "text/plain": [
       "Text(42.0, 0.5, 'predicted label')"
      ]
     },
     "execution_count": 61,
     "metadata": {},
     "output_type": "execute_result"
    },
    {
     "data": {
      "image/png": "[encoded data removed]",
      "text/plain": [
       "<Figure size 504x504 with 2 Axes>"
      ]
     },
     "metadata": {
      "needs_background": "light"
     },
     "output_type": "display_data"
    }
   ],
   "source": [
    "## Predicting data\n",
    "y_pred_n=model_n.predict(X_n_test)\n",
    "\n",
    "## classification report\n",
    "print(classification_report(y_test_n,y_pred_n))\n",
    "## accuracy score\n",
    "print(\"accuracy score : \",accuracy_score(y_test_n,y_pred_n))\n",
    "\n",
    "## percentage accurate\n",
    "print(\"accuracy:\", round(100*accuracy_score(y_test_n,y_pred_n)),\"%\")\n",
    "\n",
    "## confusion matrix\n",
    "conf_mat_n=confusion_matrix(y_test_n,y_pred_n)\n",
    "print(\"Confusion matrix is \\n\",conf_mat_n)\n",
    "\n",
    "## plotting confusion matrix\n",
    "plt.figure(figsize=(7,7))\n",
    "plt.title(\"Logistic Regression CM\")\n",
    "sns.heatmap(conf_mat_n, square=True,cmap=\"BuPu\",annot=True,fmt='d')\n",
    "plt.xlabel('true label')\n",
    "plt.ylabel('predicted label')"
   ]
  },
  {
   "cell_type": "code",
   "execution_count": 62,
   "id": "98da9f23",
   "metadata": {
    "execution": {
     "iopub.execute_input": "2022-03-20T16:30:19.720407Z",
     "iopub.status.busy": "2022-03-20T16:30:19.719392Z",
     "iopub.status.idle": "2022-03-20T16:30:20.113593Z",
     "shell.execute_reply": "2022-03-20T16:30:20.114071Z",
     "shell.execute_reply.started": "2022-03-20T15:28:56.965047Z"
    },
    "papermill": {
     "duration": 0.527568,
     "end_time": "2022-03-20T16:30:20.114272",
     "exception": false,
     "start_time": "2022-03-20T16:30:19.586704",
     "status": "completed"
    },
    "tags": []
   },
   "outputs": [
    {
     "data": {
      "text/plain": [
       "<matplotlib.legend.Legend at 0x7f6c32684f10>"
      ]
     },
     "execution_count": 62,
     "metadata": {},
     "output_type": "execute_result"
    },
    {
     "data": {
      "image/png": "[encoded data removed]",
      "text/plain": [
       "<Figure size 432x288 with 1 Axes>"
      ]
     },
     "metadata": {
      "needs_background": "light"
     },
     "output_type": "display_data"
    }
   ],
   "source": [
    "## Prediction using predict_proba \n",
    "y_pred_proba_n = model_n.predict_proba(X_n_test)[:,1]\n",
    "fpr, tpr, _ = roc_curve(y_test_n, y_pred_proba_n)\n",
    "roc_auc=auc(fpr,tpr)\n",
    "#Now Draw ROC using fpr , tpr\n",
    "plt.plot([0, 1], [0, 1], 'k--',label='Random')\n",
    "plt.plot(fpr,tpr,label='ROC curve (area = %0.2f)' %roc_auc)\n",
    "plt.xlabel('False positive rate')\n",
    "plt.ylabel('True positive rate')\n",
    "plt.title('Logistic Regression ROC curve')\n",
    "plt.legend(loc='best')"
   ]
  },
  {
   "cell_type": "markdown",
   "id": "9b7eacff",
   "metadata": {
    "papermill": {
     "duration": 0.130765,
     "end_time": "2022-03-20T16:30:20.378127",
     "exception": false,
     "start_time": "2022-03-20T16:30:20.247362",
     "status": "completed"
    },
    "tags": []
   },
   "source": [
    "# **CONCLUSION**\n",
    "\n",
    "• All attributes selected after the elimination process show P-values lower than 5% and thereby suggesting significant role in the Heart disease prediction.\n",
    "\n",
    "• Men seem to be more susceptible to heart disease than women. Increase in age, number of cigarettes smoked per day, glucose and systolic Blood Pressure also show increasing odds of having heart disease\n",
    "\n",
    "• Total cholesterol shows no significant change in the odds of CHD. This could be due to the presence of 'good cholesterol(HDL) in the total cholesterol reading. Glucose too causes a very negligible change in odds (0.2%)\n",
    "\n",
    "• The model predicted with 0.84 accuracy. The model is more specific than sensitive. Overall model could be improved with more data"
   ]
  }
 ],
 "metadata": {
  "kernelspec": {
   "display_name": "Python 3",
   "language": "python",
   "name": "python3"
  },
  "language_info": {
   "codemirror_mode": {
    "name": "ipython",
    "version": 3
   },
   "file_extension": ".py",
   "mimetype": "text/x-python",
   "name": "python",
   "nbconvert_exporter": "python",
   "pygments_lexer": "ipython3",
   "version": "3.7.12"
  },
  "papermill": {
   "default_parameters": {},
   "duration": 41.084218,
   "end_time": "2022-03-20T16:30:21.419970",
   "environment_variables": {},
   "exception": null,
   "input_path": "__notebook__.ipynb",
   "output_path": "__notebook__.ipynb",
   "parameters": {},
   "start_time": "2022-03-20T16:29:40.335752",
   "version": "2.3.3"
  }
 },
 "nbformat": 4,
 "nbformat_minor": 5
}
